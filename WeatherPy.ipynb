{
 "cells": [
  {
   "cell_type": "markdown",
   "metadata": {},
   "source": [
    "# WeatherPy\n",
    "----\n",
    "\n",
    "#### Note\n",
    "* Instructions have been included for each segment. You do not have to follow them exactly, but they are included to help you think through the steps."
   ]
  },
  {
   "cell_type": "code",
   "execution_count": 1,
   "metadata": {
    "scrolled": true
   },
   "outputs": [],
   "source": [
    "# Dependencies and Setup\n",
    "import matplotlib.pyplot as plt\n",
    "import pandas as pd\n",
    "import numpy as np\n",
    "import requests\n",
    "import json\n",
    "import time\n",
    "from ratelimit import limits\n",
    "from scipy.stats import linregress\n",
    "import scipy.stats as st\n",
    "\n",
    "# Import API key\n",
    "from api_keys import weather_api_key\n",
    "\n",
    "# Incorporated citipy to determine city based on latitude and longitude\n",
    "from citipy import citipy\n",
    "\n",
    "# Output File (CSV)\n",
    "output_data_file = \"output_data/cities.csv\"\n",
    "\n",
    "# Range of latitudes and longitudes\n",
    "lat_range = (-90, 90)\n",
    "lng_range = (-180, 180)"
   ]
  },
  {
   "cell_type": "markdown",
   "metadata": {},
   "source": [
    "## Generate Cities List"
   ]
  },
  {
   "cell_type": "code",
   "execution_count": 2,
   "metadata": {},
   "outputs": [
    {
     "name": "stdout",
     "output_type": "stream",
     "text": [
      "623\n"
     ]
    }
   ],
   "source": [
    "# List for holding lat_lngs and cities\n",
    "lat_lngs = []\n",
    "cities = []\n",
    "\n",
    "# Create a set of random lat and lng combinations\n",
    "lats = np.random.uniform(lat_range[0], lat_range[1], size=1500)\n",
    "lngs = np.random.uniform(lng_range[0], lng_range[1], size=1500)\n",
    "lat_lngs = zip(lats, lngs)\n",
    "\n",
    "# Identify nearest city for each lat, lng combination\n",
    "for lat_lng in lat_lngs:\n",
    "    city = citipy.nearest_city(lat_lng[0], lat_lng[1]).city_name\n",
    "    \n",
    "    # If the city is unique, then add it to a our cities list\n",
    "    if city not in cities:\n",
    "        cities.append(city)\n",
    "\n",
    "# Print the city count to confirm sufficient count\n",
    "city_count = len(cities)\n",
    "print(city_count)"
   ]
  },
  {
   "cell_type": "markdown",
   "metadata": {},
   "source": [
    "### Perform API Calls\n",
    "* Perform a weather check on each city using a series of successive API calls.\n",
    "* Include a print log of each city as it'sbeing processed (with the city number and city name).\n"
   ]
  },
  {
   "cell_type": "code",
   "execution_count": 3,
   "metadata": {
    "scrolled": true
   },
   "outputs": [
    {
     "name": "stdout",
     "output_type": "stream",
     "text": [
      "{\n",
      "    \"base\": \"stations\",\n",
      "    \"clouds\": {\n",
      "        \"all\": 100\n",
      "    },\n",
      "    \"cod\": 200,\n",
      "    \"coord\": {\n",
      "        \"lat\": 10.5669,\n",
      "        \"lon\": 72.642\n",
      "    },\n",
      "    \"dt\": 1659487571,\n",
      "    \"id\": 1267390,\n",
      "    \"main\": {\n",
      "        \"feels_like\": 26.66,\n",
      "        \"grnd_level\": 1005,\n",
      "        \"humidity\": 80,\n",
      "        \"pressure\": 1006,\n",
      "        \"sea_level\": 1006,\n",
      "        \"temp\": 26.66,\n",
      "        \"temp_max\": 26.66,\n",
      "        \"temp_min\": 26.66\n",
      "    },\n",
      "    \"name\": \"Kavaratti\",\n",
      "    \"rain\": {\n",
      "        \"1h\": 0.13\n",
      "    },\n",
      "    \"sys\": {\n",
      "        \"country\": \"IN\",\n",
      "        \"sunrise\": 1659488310,\n",
      "        \"sunset\": 1659533562\n",
      "    },\n",
      "    \"timezone\": 19800,\n",
      "    \"visibility\": 10000,\n",
      "    \"weather\": [\n",
      "        {\n",
      "            \"description\": \"light rain\",\n",
      "            \"icon\": \"10n\",\n",
      "            \"id\": 500,\n",
      "            \"main\": \"Rain\"\n",
      "        }\n",
      "    ],\n",
      "    \"wind\": {\n",
      "        \"deg\": 298,\n",
      "        \"gust\": 13.2,\n",
      "        \"speed\": 10.72\n",
      "    }\n",
      "}\n"
     ]
    }
   ],
   "source": [
    "# Building API Calls\n",
    "\n",
    "base_url = \"https://api.openweathermap.org/data/2.5/weather?\"\n",
    "units = \"metric\"\n",
    "query_url = f\"{base_url}appid={weather_api_key}&units={units}&q={city}\"\n",
    "\n",
    "# Building a Dictionary to store data\n",
    "city_weather = {\"City\": [],\n",
    "             \"Lat\": [],\n",
    "             \"Lng\": [],\n",
    "             \"Max Temp\": [],\n",
    "             \"Humidity\": [],\n",
    "             \"Cloudiness\": [],\n",
    "             \"Wind Speed\": [],\n",
    "             \"Country\": [],\n",
    "             \"Date\": []\n",
    "               }\n",
    "\n",
    "# Getting Weather Data\n",
    "response = requests.get(query_url).json()\n",
    "\n",
    "# print(response)\n",
    "print(json.dumps(response, indent=4, sort_keys=True))"
   ]
  },
  {
   "cell_type": "code",
   "execution_count": 4,
   "metadata": {},
   "outputs": [
    {
     "name": "stdout",
     "output_type": "stream",
     "text": [
      "----------------------------- Beginning Data Retrieval  -----------------------------\n",
      "Processing Weather Data for Record 1 of 623: Saint George\n",
      "Processing Weather Data for Record 2 of 623: Hofn\n",
      "Processing Weather Data for Record 3 of 623: Shimanovsk\n",
      "Processing Weather Data for Record 4 of 623: Dolinsk\n",
      "Processing Weather Data for Record 5 of 623: Sept-Îles\n",
      "Processing Weather Data for Record 6 of 623: Kampene\n",
      "Processing Weather Data for Record 7 of 623: Hong Kong\n",
      "Processing Weather Data for Record 8 of 623: Rikitea\n",
      "Processing Weather Data for Record 9 of 623: Tasiilaq\n",
      "Processing Weather Data for Record 10 of 623: San Patricio\n",
      "Processing Weather Data for Record 11 of 623: Mount Gambier\n",
      "Processing Weather Data for Record 12 of 623: Mosquera\n",
      "Processing Weather Data for Record 13 of 623: Atuona\n",
      "Processing Weather Data for Record 14 of 623: Avera\n",
      "taolanaro not found, on to the next one!\n",
      "Processing Weather Data for Record 15 of 623: Sur\n",
      "grand river south east not found, on to the next one!\n",
      "Processing Weather Data for Record 16 of 623: Kapaa\n",
      "sentyabrskiy not found, on to the next one!\n",
      "Processing Weather Data for Record 17 of 623: Albany\n",
      "Processing Weather Data for Record 18 of 623: Nizwá\n",
      "Processing Weather Data for Record 19 of 623: Aklavik\n",
      "Processing Weather Data for Record 20 of 623: Vila Velha\n",
      "Processing Weather Data for Record 21 of 623: Hermanus\n",
      "Processing Weather Data for Record 22 of 623: Ziro\n",
      "Processing Weather Data for Record 23 of 623: Dikson\n",
      "Processing Weather Data for Record 24 of 623: Mahon\n",
      "Processing Weather Data for Record 25 of 623: Tessalit\n",
      "Processing Weather Data for Record 26 of 623: Ushuaia\n",
      "viligili not found, on to the next one!\n",
      "Processing Weather Data for Record 27 of 623: Hobart\n",
      "Processing Weather Data for Record 28 of 623: Chui\n",
      "Processing Weather Data for Record 29 of 623: Puerto Ayora\n",
      "Processing Weather Data for Record 30 of 623: Flin Flon\n",
      "Processing Weather Data for Record 31 of 623: Rathangan\n",
      "Processing Weather Data for Record 32 of 623: Narsaq\n",
      "Processing Weather Data for Record 33 of 623: Black River\n",
      "Processing Weather Data for Record 34 of 623: Stephenville Crossing\n",
      "Processing Weather Data for Record 35 of 623: Qaanaaq\n",
      "Processing Weather Data for Record 36 of 623: Avarua\n",
      "Processing Weather Data for Record 37 of 623: Cabo San Lucas\n",
      "illoqqortoormiut not found, on to the next one!\n",
      "Processing Weather Data for Record 38 of 623: Sechura\n",
      "amderma not found, on to the next one!\n",
      "Processing Weather Data for Record 39 of 623: Punta Arenas\n",
      "Processing Weather Data for Record 40 of 623: Abhā\n",
      "Processing Weather Data for Record 41 of 623: Swan Hill\n",
      "Processing Weather Data for Record 42 of 623: Cape Town\n",
      "samusu not found, on to the next one!\n",
      "Processing Weather Data for Record 43 of 623: Longyearbyen\n",
      "Processing Weather Data for Record 44 of 623: Port Alfred\n",
      "Processing Weather Data for Record 45 of 623: Tautira\n",
      "Processing Weather Data for Record 46 of 623: Jamestown\n",
      "Processing Weather Data for Record 47 of 623: Bambous Virieux\n",
      "louisbourg not found, on to the next one!\n",
      "Processing Weather Data for Record 48 of 623: Forsytheganj\n",
      "Processing Weather Data for Record 49 of 623: Bredasdorp\n",
      "Processing Weather Data for Record 50 of 623: Tiksi\n",
      "Processing Weather Data for Record 51 of 623: Kieta\n",
      "Processing Weather Data for Record 52 of 623: Dukat\n",
      "Processing Weather Data for Record 53 of 623: Kartuzy\n",
      "Processing Weather Data for Record 54 of 623: Udachny\n",
      "Processing Weather Data for Record 55 of 623: Sri Aman\n",
      "Processing Weather Data for Record 56 of 623: Khanbari\n",
      "Processing Weather Data for Record 57 of 623: Fairbanks\n",
      "Processing Weather Data for Record 58 of 623: Pizarro\n",
      "Processing Weather Data for Record 59 of 623: Lagoa\n",
      "Processing Weather Data for Record 60 of 623: Mataura\n",
      "Processing Weather Data for Record 61 of 623: Hithadhoo\n",
      "Processing Weather Data for Record 62 of 623: Jinchang\n",
      "Processing Weather Data for Record 63 of 623: Saint-Philippe\n",
      "Processing Weather Data for Record 64 of 623: Nikolskoye\n",
      "Processing Weather Data for Record 65 of 623: Klaksvík\n",
      "Processing Weather Data for Record 66 of 623: Cumberland\n",
      "Processing Weather Data for Record 67 of 623: Arraial do Cabo\n",
      "Processing Weather Data for Record 68 of 623: Busselton\n",
      "Processing Weather Data for Record 69 of 623: São Filipe\n",
      "Processing Weather Data for Record 70 of 623: Ocampo\n",
      "Processing Weather Data for Record 71 of 623: Sucúa\n",
      "Processing Weather Data for Record 72 of 623: Norman Wells\n",
      "Processing Weather Data for Record 73 of 623: George Town\n",
      "Processing Weather Data for Record 74 of 623: Nizhnevartovsk\n",
      "Processing Weather Data for Record 75 of 623: Barrow\n",
      "Processing Weather Data for Record 76 of 623: Samarai\n",
      "Processing Weather Data for Record 77 of 623: Fortuna\n",
      "Processing Weather Data for Record 78 of 623: Hilo\n",
      "Processing Weather Data for Record 79 of 623: Dori\n",
      "Processing Weather Data for Record 80 of 623: Chifeng\n",
      "Processing Weather Data for Record 81 of 623: Kaitangata\n",
      "Processing Weather Data for Record 82 of 623: Mahabalipuram\n",
      "Processing Weather Data for Record 83 of 623: Chokurdakh\n",
      "meyungs not found, on to the next one!\n",
      "Processing Weather Data for Record 84 of 623: Aldan\n",
      "Processing Weather Data for Record 85 of 623: Fontem\n",
      "Processing Weather Data for Record 86 of 623: Yellowknife\n",
      "Processing Weather Data for Record 87 of 623: Flinders\n",
      "Processing Weather Data for Record 88 of 623: Champerico\n",
      "Processing Weather Data for Record 89 of 623: Kargasok\n",
      "Processing Weather Data for Record 90 of 623: Benguela\n",
      "Processing Weather Data for Record 91 of 623: Port Elizabeth\n",
      "Processing Weather Data for Record 92 of 623: Srednekolymsk\n",
      "Processing Weather Data for Record 93 of 623: Luwuk\n",
      "Processing Weather Data for Record 94 of 623: Sangar\n",
      "Processing Weather Data for Record 95 of 623: Tuktoyaktuk\n",
      "Processing Weather Data for Record 96 of 623: Vaini\n",
      "Processing Weather Data for Record 97 of 623: Faanui\n",
      "Processing Weather Data for Record 98 of 623: Krasnosel'kup\n",
      "Processing Weather Data for Record 99 of 623: Le Port\n",
      "Processing Weather Data for Record 100 of 623: Inhambane\n",
      "Processing Weather Data for Record 101 of 623: Churapcha\n",
      "attawapiskat not found, on to the next one!\n",
      "Processing Weather Data for Record 102 of 623: Port Blair\n",
      "Processing Weather Data for Record 103 of 623: Kolyvan'\n",
      "Processing Weather Data for Record 104 of 623: Khatanga\n",
      "Processing Weather Data for Record 105 of 623: Ribeira Grande\n",
      "Processing Weather Data for Record 106 of 623: Severo-Kuril'sk\n",
      "Processing Weather Data for Record 107 of 623: Mayya\n",
      "Processing Weather Data for Record 108 of 623: Grimshaw\n",
      "Processing Weather Data for Record 109 of 623: Wembley\n",
      "Processing Weather Data for Record 110 of 623: Shellbrook\n",
      "Processing Weather Data for Record 111 of 623: Port Lincoln\n",
      "Processing Weather Data for Record 112 of 623: Aasiaat\n",
      "Processing Weather Data for Record 113 of 623: Portland\n",
      "Processing Weather Data for Record 114 of 623: Wanning\n",
      "Processing Weather Data for Record 115 of 623: Qaqortoq\n",
      "Processing Weather Data for Record 116 of 623: Katobu\n",
      "kerki not found, on to the next one!\n",
      "Processing Weather Data for Record 117 of 623: Bubaque\n",
      "Processing Weather Data for Record 118 of 623: Lüderitz\n",
      "Processing Weather Data for Record 119 of 623: Vestmannaeyjar\n",
      "Processing Weather Data for Record 120 of 623: Ladário\n",
      "Processing Weather Data for Record 121 of 623: Muhos\n",
      "Processing Weather Data for Record 122 of 623: Soe\n",
      "Processing Weather Data for Record 123 of 623: Departamento de Maldonado\n",
      "Processing Weather Data for Record 124 of 623: Bluff\n",
      "belushya guba not found, on to the next one!\n",
      "Processing Weather Data for Record 125 of 623: New Norfolk\n",
      "Processing Weather Data for Record 126 of 623: Rome\n",
      "Processing Weather Data for Record 127 of 623: Bosaso\n",
      "Processing Weather Data for Record 128 of 623: Sunām\n",
      "mys shmidta not found, on to the next one!\n",
      "Processing Weather Data for Record 129 of 623: Skibbereen\n",
      "Processing Weather Data for Record 130 of 623: Aquidauana\n",
      "Processing Weather Data for Record 131 of 623: Sitka\n",
      "Processing Weather Data for Record 132 of 623: Marsabit\n",
      "Processing Weather Data for Record 133 of 623: Leh\n",
      "Processing Weather Data for Record 134 of 623: Lebu\n",
      "Processing Weather Data for Record 135 of 623: Gouré\n",
      "Processing Weather Data for Record 136 of 623: Pytalovo\n",
      "Processing Weather Data for Record 137 of 623: Sertânia\n",
      "Processing Weather Data for Record 138 of 623: Khandyga\n",
      "Processing Weather Data for Record 139 of 623: Nanga Eboko\n",
      "Processing Weather Data for Record 140 of 623: Terrace\n",
      "Processing Weather Data for Record 141 of 623: Thompson\n",
      "Processing Weather Data for Record 142 of 623: Torbay\n",
      "Processing Weather Data for Record 143 of 623: Mocuba\n",
      "Processing Weather Data for Record 144 of 623: Solnechnyy\n",
      "Processing Weather Data for Record 145 of 623: Butaritari\n",
      "Processing Weather Data for Record 146 of 623: Sitia\n",
      "Processing Weather Data for Record 147 of 623: Punta Alta\n",
      "Processing Weather Data for Record 148 of 623: Provideniya\n",
      "Processing Weather Data for Record 149 of 623: Guiren\n",
      "Processing Weather Data for Record 150 of 623: Carnarvon\n",
      "Processing Weather Data for Record 151 of 623: Ikom\n",
      "Processing Weather Data for Record 152 of 623: Yumen\n",
      "Processing Weather Data for Record 153 of 623: Río Cuarto\n",
      "Processing Weather Data for Record 154 of 623: Fort Nelson\n",
      "Processing Weather Data for Record 155 of 623: Auki\n",
      "Processing Weather Data for Record 156 of 623: Kumul\n",
      "Processing Weather Data for Record 157 of 623: Upernavik\n",
      "Processing Weather Data for Record 158 of 623: São João da Barra\n",
      "Processing Weather Data for Record 159 of 623: Honningsvåg\n",
      "Processing Weather Data for Record 160 of 623: Castro\n",
      "Processing Weather Data for Record 161 of 623: Brigham City\n",
      "Processing Weather Data for Record 162 of 623: Gizo Government Station\n",
      "Processing Weather Data for Record 163 of 623: Sakakah\n",
      "Processing Weather Data for Record 164 of 623: Santa Isabel Rio Negro\n",
      "Processing Weather Data for Record 165 of 623: Harper\n",
      "Processing Weather Data for Record 166 of 623: Orlik\n",
      "Processing Weather Data for Record 167 of 623: Lompoc\n",
      "Processing Weather Data for Record 168 of 623: Bogorodskoye\n",
      "Processing Weather Data for Record 169 of 623: El Alto\n",
      "tumannyy not found, on to the next one!\n",
      "Processing Weather Data for Record 170 of 623: Dingle\n",
      "Processing Weather Data for Record 171 of 623: Bedford\n",
      "Processing Weather Data for Record 172 of 623: Ambon City\n",
      "Processing Weather Data for Record 173 of 623: Cidreira\n",
      "nguiu not found, on to the next one!\n",
      "Processing Weather Data for Record 174 of 623: Ostrovnoy\n",
      "Processing Weather Data for Record 175 of 623: Pangkalanbuun\n",
      "Processing Weather Data for Record 176 of 623: Cedar City\n",
      "Processing Weather Data for Record 177 of 623: Tandil\n",
      "Processing Weather Data for Record 178 of 623: Tabou\n",
      "Processing Weather Data for Record 179 of 623: Ulladulla\n",
      "Processing Weather Data for Record 180 of 623: El Sauzal de Rodríguez\n",
      "cheuskiny not found, on to the next one!\n",
      "Processing Weather Data for Record 181 of 623: Barcelos\n",
      "Processing Weather Data for Record 182 of 623: Verkhnechusovskiye Gorodki\n",
      "la gaulette not found, on to the next one!\n",
      "Processing Weather Data for Record 183 of 623: Minudasht\n",
      "Processing Weather Data for Record 184 of 623: Hirara\n",
      "Processing Weather Data for Record 185 of 623: Vanimo\n",
      "Processing Weather Data for Record 186 of 623: Timaru\n",
      "Processing Weather Data for Record 187 of 623: Hambantota\n",
      "Processing Weather Data for Record 188 of 623: La Rioja\n",
      "Processing Weather Data for Record 189 of 623: Dodoma\n",
      "Processing Weather Data for Record 190 of 623: Olafsvik\n",
      "Processing Weather Data for Record 191 of 623: Monroe\n",
      "Processing Weather Data for Record 192 of 623: Igurubi\n",
      "Processing Weather Data for Record 193 of 623: Basco\n",
      "Processing Weather Data for Record 194 of 623: Codrington\n",
      "Processing Weather Data for Record 195 of 623: Quatre Cocos\n",
      "Processing Weather Data for Record 196 of 623: Mahébourg\n",
      "Processing Weather Data for Record 197 of 623: Pisco\n",
      "Processing Weather Data for Record 198 of 623: Pangnirtung\n",
      "Processing Weather Data for Record 199 of 623: Tual\n",
      "Processing Weather Data for Record 200 of 623: Makkah al Mukarramah\n",
      "Processing Weather Data for Record 201 of 623: Kavieng\n",
      "Processing Weather Data for Record 202 of 623: Kruisfontein\n",
      "Processing Weather Data for Record 203 of 623: Ponta do Sol\n",
      "Processing Weather Data for Record 204 of 623: Galle\n",
      "Processing Weather Data for Record 205 of 623: Mar del Plata\n",
      "Processing Weather Data for Record 206 of 623: Les Cayes\n",
      "Processing Weather Data for Record 207 of 623: Moose Factory\n",
      "Processing Weather Data for Record 208 of 623: Constitución\n",
      "Processing Weather Data for Record 209 of 623: Havre-St-Pierre\n",
      "Processing Weather Data for Record 210 of 623: Srīsailain\n",
      "Processing Weather Data for Record 211 of 623: Bestöbe\n",
      "Processing Weather Data for Record 212 of 623: Lata\n",
      "Processing Weather Data for Record 213 of 623: Ilulissat\n",
      "Processing Weather Data for Record 214 of 623: Acarí\n",
      "umzimvubu not found, on to the next one!\n",
      "Processing Weather Data for Record 215 of 623: Marau\n",
      "khonuu not found, on to the next one!\n",
      "Processing Weather Data for Record 216 of 623: Geraldton\n",
      "Processing Weather Data for Record 217 of 623: Luganville\n",
      "Processing Weather Data for Record 218 of 623: Ketchikan\n",
      "tsihombe not found, on to the next one!\n",
      "mentok not found, on to the next one!\n",
      "Processing Weather Data for Record 219 of 623: Haines Junction\n",
      "Processing Weather Data for Record 220 of 623: Airai\n",
      "Processing Weather Data for Record 221 of 623: Heihe\n",
      "Processing Weather Data for Record 222 of 623: Río Gallegos\n",
      "Processing Weather Data for Record 223 of 623: Hays\n",
      "Processing Weather Data for Record 224 of 623: East London\n",
      "Processing Weather Data for Record 225 of 623: Kemijärvi\n",
      "Processing Weather Data for Record 226 of 623: Talca\n",
      "Processing Weather Data for Record 227 of 623: Oranjemund\n",
      "Processing Weather Data for Record 228 of 623: Los Llanos de Aridane\n",
      "Processing Weather Data for Record 229 of 623: Halifax\n",
      "Processing Weather Data for Record 230 of 623: Ivrea\n",
      "Processing Weather Data for Record 231 of 623: Talnakh\n",
      "jiddah not found, on to the next one!\n",
      "Processing Weather Data for Record 232 of 623: Thunder Bay\n",
      "ngukurr not found, on to the next one!\n",
      "Processing Weather Data for Record 233 of 623: Black Forest\n",
      "Processing Weather Data for Record 234 of 623: Ancud\n",
      "Processing Weather Data for Record 235 of 623: Bakchar\n",
      "el faiyum not found, on to the next one!\n",
      "Processing Weather Data for Record 236 of 623: Pevek\n",
      "Processing Weather Data for Record 237 of 623: Ozinki\n",
      "Processing Weather Data for Record 238 of 623: San Pedro de Macorís\n",
      "Processing Weather Data for Record 239 of 623: Saskylakh\n",
      "Processing Weather Data for Record 240 of 623: Husavik\n",
      "Processing Weather Data for Record 241 of 623: Saint Paul Harbor\n",
      "Processing Weather Data for Record 242 of 623: Sault Ste. Marie\n",
      "Processing Weather Data for Record 243 of 623: Saldanha\n",
      "Processing Weather Data for Record 244 of 623: Hay River\n",
      "Processing Weather Data for Record 245 of 623: Ahipara\n",
      "Processing Weather Data for Record 246 of 623: Buraidah\n",
      "Processing Weather Data for Record 247 of 623: Farafangana\n",
      "Processing Weather Data for Record 248 of 623: Nanortalik\n",
      "Processing Weather Data for Record 249 of 623: Dangtu\n",
      "stamsund not found, on to the next one!\n",
      "Processing Weather Data for Record 250 of 623: Ramsar\n",
      "Processing Weather Data for Record 251 of 623: Esperance\n",
      "anar darreh not found, on to the next one!\n",
      "nizhneyansk not found, on to the next one!\n",
      "Processing Weather Data for Record 252 of 623: Bethel\n",
      "Processing Weather Data for Record 253 of 623: Makakilo City\n",
      "Processing Weather Data for Record 254 of 623: Eureka\n",
      "Processing Weather Data for Record 255 of 623: San Fernando del Valle de Catamarca\n",
      "Processing Weather Data for Record 256 of 623: Yarim\n",
      "Processing Weather Data for Record 257 of 623: Balabac\n",
      "Processing Weather Data for Record 258 of 623: Alice Springs\n",
      "Processing Weather Data for Record 259 of 623: Coquimbo\n",
      "Processing Weather Data for Record 260 of 623: Aykhal\n",
      "Processing Weather Data for Record 261 of 623: Richards Bay\n",
      "Processing Weather Data for Record 262 of 623: Estelle\n",
      "Processing Weather Data for Record 263 of 623: Gaoual\n",
      "Processing Weather Data for Record 264 of 623: La Ronge\n",
      "Processing Weather Data for Record 265 of 623: Vratnica\n",
      "Processing Weather Data for Record 266 of 623: Cabedelo\n",
      "Processing Weather Data for Record 267 of 623: Roebourne\n",
      "Processing Weather Data for Record 268 of 623: Porto-Vecchio\n",
      "Processing Weather Data for Record 269 of 623: Mossamedes\n",
      "Processing Weather Data for Record 270 of 623: Grand-Santi\n",
      "Processing Weather Data for Record 271 of 623: Aljezur\n",
      "Processing Weather Data for Record 272 of 623: Tuatapere\n",
      "Processing Weather Data for Record 273 of 623: Lebedinyy\n",
      "Processing Weather Data for Record 274 of 623: Marrakesh\n",
      "barentsburg not found, on to the next one!\n",
      "Processing Weather Data for Record 275 of 623: Colares\n",
      "Processing Weather Data for Record 276 of 623: Māyakonda\n",
      "Processing Weather Data for Record 277 of 623: Neryungri\n",
      "Processing Weather Data for Record 278 of 623: Progreso\n",
      "Processing Weather Data for Record 279 of 623: Shiyan\n",
      "Processing Weather Data for Record 280 of 623: Islāmpur\n",
      "Processing Weather Data for Record 281 of 623: Kushima\n",
      "Processing Weather Data for Record 282 of 623: Kalispell\n",
      "Processing Weather Data for Record 283 of 623: Alta Floresta\n",
      "Processing Weather Data for Record 284 of 623: Rengo\n",
      "Processing Weather Data for Record 285 of 623: New Iberia\n",
      "Processing Weather Data for Record 286 of 623: Sharjah city\n",
      "Processing Weather Data for Record 287 of 623: Bengkulu\n",
      "Processing Weather Data for Record 288 of 623: Egvekinot\n",
      "Processing Weather Data for Record 289 of 623: Olinda\n",
      "Processing Weather Data for Record 290 of 623: Zykovo\n",
      "Processing Weather Data for Record 291 of 623: Clyde River\n",
      "Processing Weather Data for Record 292 of 623: Seoul\n",
      "Processing Weather Data for Record 293 of 623: Bilma\n",
      "Processing Weather Data for Record 294 of 623: Vilhena\n",
      "Processing Weather Data for Record 295 of 623: Marsh Harbour\n",
      "Processing Weather Data for Record 296 of 623: Willmar\n",
      "Processing Weather Data for Record 297 of 623: Shiraz\n",
      "Processing Weather Data for Record 298 of 623: Dingli\n",
      "Processing Weather Data for Record 299 of 623: Henties Bay\n",
      "lolua not found, on to the next one!\n",
      "Processing Weather Data for Record 300 of 623: Atasū\n",
      "Processing Weather Data for Record 301 of 623: Pericos\n",
      "Processing Weather Data for Record 302 of 623: Solhan\n",
      "Processing Weather Data for Record 303 of 623: Tynda\n",
      "Processing Weather Data for Record 304 of 623: La Paz\n",
      "tarudant not found, on to the next one!\n",
      "Processing Weather Data for Record 305 of 623: Kinchil\n",
      "Processing Weather Data for Record 306 of 623: Cooma\n",
      "Processing Weather Data for Record 307 of 623: Kirakira\n",
      "Processing Weather Data for Record 308 of 623: Iqaluit\n",
      "Processing Weather Data for Record 309 of 623: Northam\n",
      "Processing Weather Data for Record 310 of 623: Madrid\n",
      "gurgan not found, on to the next one!\n",
      "Processing Weather Data for Record 311 of 623: Abalak\n",
      "Processing Weather Data for Record 312 of 623: Belmonte\n",
      "Processing Weather Data for Record 313 of 623: Inuvik\n",
      "Processing Weather Data for Record 314 of 623: Sárvár\n",
      "Processing Weather Data for Record 315 of 623: Cherskiy\n",
      "Processing Weather Data for Record 316 of 623: Laguna\n",
      "Processing Weather Data for Record 317 of 623: Garissa\n",
      "Processing Weather Data for Record 318 of 623: Port Augusta\n",
      "Processing Weather Data for Record 319 of 623: Vadsø\n",
      "Processing Weather Data for Record 320 of 623: Dom Pedrito\n",
      "Processing Weather Data for Record 321 of 623: Soyo\n",
      "Processing Weather Data for Record 322 of 623: Mishan\n",
      "Processing Weather Data for Record 323 of 623: Marabu\n",
      "Processing Weather Data for Record 324 of 623: Gigmoto\n",
      "Processing Weather Data for Record 325 of 623: Kurumkan\n",
      "Processing Weather Data for Record 326 of 623: Pangoa\n",
      "Processing Weather Data for Record 327 of 623: Mīzan Teferī\n",
      "Processing Weather Data for Record 328 of 623: Karratha\n",
      "Processing Weather Data for Record 329 of 623: Xichang\n",
      "Processing Weather Data for Record 330 of 623: Rūdbār\n",
      "Processing Weather Data for Record 331 of 623: Grindavik\n",
      "Processing Weather Data for Record 332 of 623: Caravelas\n",
      "Processing Weather Data for Record 333 of 623: Simbahan\n",
      "Processing Weather Data for Record 334 of 623: Takoradze\n",
      "Processing Weather Data for Record 335 of 623: Puerto Ayacucho\n",
      "azar shahr not found, on to the next one!\n",
      "Processing Weather Data for Record 336 of 623: Barre\n",
      "Processing Weather Data for Record 337 of 623: Manyana\n",
      "Processing Weather Data for Record 338 of 623: Lishui\n",
      "Processing Weather Data for Record 339 of 623: Agüimes\n",
      "Processing Weather Data for Record 340 of 623: Gamba\n",
      "Processing Weather Data for Record 341 of 623: Mikuni\n",
      "temaraia not found, on to the next one!\n",
      "Processing Weather Data for Record 342 of 623: Hasaki\n",
      "Processing Weather Data for Record 343 of 623: Uvinza\n",
      "Processing Weather Data for Record 344 of 623: Kamaishi\n",
      "Processing Weather Data for Record 345 of 623: Cockburn Town\n",
      "Processing Weather Data for Record 346 of 623: Barra de Tecoanapa\n",
      "falealupo not found, on to the next one!\n",
      "Processing Weather Data for Record 347 of 623: Sakaiminato\n",
      "Processing Weather Data for Record 348 of 623: Aljustrel\n",
      "Processing Weather Data for Record 349 of 623: Jiuquan\n",
      "Processing Weather Data for Record 350 of 623: Bukama\n",
      "Processing Weather Data for Record 351 of 623: Bang Khla\n",
      "Processing Weather Data for Record 352 of 623: Winslow\n",
      "Processing Weather Data for Record 353 of 623: Ola\n",
      "Processing Weather Data for Record 354 of 623: Katsuura\n",
      "Processing Weather Data for Record 355 of 623: Bayanday\n",
      "Processing Weather Data for Record 356 of 623: Bani Walid\n",
      "Processing Weather Data for Record 357 of 623: Hualmay\n",
      "Processing Weather Data for Record 358 of 623: Tucupita\n",
      "Processing Weather Data for Record 359 of 623: Maple Creek\n",
      "Processing Weather Data for Record 360 of 623: Kamenka\n",
      "Processing Weather Data for Record 361 of 623: Erdenet\n",
      "Processing Weather Data for Record 362 of 623: Awjilah\n",
      "Processing Weather Data for Record 363 of 623: Durusu\n",
      "Processing Weather Data for Record 364 of 623: Beaverlodge\n",
      "Processing Weather Data for Record 365 of 623: Victor Harbor\n",
      "Processing Weather Data for Record 366 of 623: Bay-Khaak\n",
      "Processing Weather Data for Record 367 of 623: Villarrica\n",
      "Processing Weather Data for Record 368 of 623: Pedernales\n",
      "Processing Weather Data for Record 369 of 623: Bundaberg\n",
      "Processing Weather Data for Record 370 of 623: Porto Santo\n",
      "Processing Weather Data for Record 371 of 623: Sioux Lookout\n",
      "Processing Weather Data for Record 372 of 623: Plátanos\n",
      "Processing Weather Data for Record 373 of 623: Adana Province\n",
      "Processing Weather Data for Record 374 of 623: Coahuayana Viejo\n",
      "Processing Weather Data for Record 375 of 623: Puerto Madero\n",
      "toliary not found, on to the next one!\n",
      "Processing Weather Data for Record 376 of 623: Turukhansk\n",
      "Processing Weather Data for Record 377 of 623: Baraboo\n",
      "Processing Weather Data for Record 378 of 623: Kuala Lipis\n",
      "vaitupu not found, on to the next one!\n",
      "Processing Weather Data for Record 379 of 623: Makaha\n",
      "Processing Weather Data for Record 380 of 623: Rawson\n",
      "Processing Weather Data for Record 381 of 623: Oranjestad\n",
      "Processing Weather Data for Record 382 of 623: Namatanai\n",
      "Processing Weather Data for Record 383 of 623: Chernyshevskiy\n",
      "stoyba not found, on to the next one!\n",
      "mrirt not found, on to the next one!\n",
      "buariki not found, on to the next one!\n",
      "Processing Weather Data for Record 384 of 623: Sarkand\n",
      "Processing Weather Data for Record 385 of 623: Kutum\n",
      "Processing Weather Data for Record 386 of 623: Dunedin\n",
      "Processing Weather Data for Record 387 of 623: Faya\n",
      "Processing Weather Data for Record 388 of 623: Meulaboh\n",
      "Processing Weather Data for Record 389 of 623: Poindimié\n",
      "saleaula not found, on to the next one!\n",
      "Processing Weather Data for Record 390 of 623: Altagracia de Orituco\n",
      "Processing Weather Data for Record 391 of 623: Båtsfjord\n",
      "Processing Weather Data for Record 392 of 623: Verāval\n",
      "Processing Weather Data for Record 393 of 623: Asău\n",
      "Processing Weather Data for Record 394 of 623: Ban Nahin\n",
      "Processing Weather Data for Record 395 of 623: Rāmpur\n",
      "Processing Weather Data for Record 396 of 623: Whitehorse\n",
      "Processing Weather Data for Record 397 of 623: Roald\n",
      "Processing Weather Data for Record 398 of 623: Havelock\n",
      "Processing Weather Data for Record 399 of 623: Lavrentiya\n",
      "hihifo not found, on to the next one!\n",
      "Processing Weather Data for Record 400 of 623: Payo\n",
      "Processing Weather Data for Record 401 of 623: Smolenka\n",
      "Processing Weather Data for Record 402 of 623: Paracuru\n",
      "Processing Weather Data for Record 403 of 623: Hervey Bay\n",
      "Processing Weather Data for Record 404 of 623: Huarmey\n",
      "Processing Weather Data for Record 405 of 623: Leningradskiy\n",
      "Processing Weather Data for Record 406 of 623: Cayenne\n",
      "Processing Weather Data for Record 407 of 623: Aloleng\n",
      "Processing Weather Data for Record 408 of 623: Bagotville\n",
      "Processing Weather Data for Record 409 of 623: Rakitnoye\n",
      "Processing Weather Data for Record 410 of 623: Mezen'\n",
      "Processing Weather Data for Record 411 of 623: Nome\n",
      "Processing Weather Data for Record 412 of 623: Port Hardy\n",
      "kuche not found, on to the next one!\n",
      "Processing Weather Data for Record 413 of 623: Rocha\n",
      "Processing Weather Data for Record 414 of 623: Mareeba\n",
      "Processing Weather Data for Record 415 of 623: Touros\n",
      "Processing Weather Data for Record 416 of 623: Boguchar\n",
      "Processing Weather Data for Record 417 of 623: Ukiah\n",
      "Processing Weather Data for Record 418 of 623: Coyhaique\n",
      "Processing Weather Data for Record 419 of 623: Pokhara\n",
      "Processing Weather Data for Record 420 of 623: Maniitsoq\n",
      "Processing Weather Data for Record 421 of 623: Merauke\n",
      "Processing Weather Data for Record 422 of 623: General Cepeda\n",
      "Processing Weather Data for Record 423 of 623: Guerrero Negro\n",
      "Processing Weather Data for Record 424 of 623: Aksarka\n",
      "Processing Weather Data for Record 425 of 623: Porto-Novo\n",
      "Processing Weather Data for Record 426 of 623: Moanda\n",
      "Processing Weather Data for Record 427 of 623: Atar\n",
      "Processing Weather Data for Record 428 of 623: Karasjok\n",
      "Processing Weather Data for Record 429 of 623: Oyotún\n",
      "Processing Weather Data for Record 430 of 623: Opuwo\n",
      "Processing Weather Data for Record 431 of 623: Fare\n",
      "Processing Weather Data for Record 432 of 623: Oyón\n",
      "Processing Weather Data for Record 433 of 623: Humboldt\n",
      "Processing Weather Data for Record 434 of 623: Caucayá\n",
      "ozgon not found, on to the next one!\n",
      "Processing Weather Data for Record 435 of 623: Okha\n",
      "bargal not found, on to the next one!\n",
      "Processing Weather Data for Record 436 of 623: Russell\n",
      "Processing Weather Data for Record 437 of 623: Lingyuan\n",
      "Processing Weather Data for Record 438 of 623: Kahului\n",
      "Processing Weather Data for Record 439 of 623: Santarém\n",
      "Processing Weather Data for Record 440 of 623: Muyezerskiy\n",
      "Processing Weather Data for Record 441 of 623: Yangi Marg`ilon\n",
      "Processing Weather Data for Record 442 of 623: Provincia di Campobasso\n",
      "Processing Weather Data for Record 443 of 623: San Quintín\n",
      "Processing Weather Data for Record 444 of 623: Guangyuan\n",
      "Processing Weather Data for Record 445 of 623: Pimenta Bueno\n",
      "Processing Weather Data for Record 446 of 623: Riverton\n",
      "Processing Weather Data for Record 447 of 623: Bathsheba\n",
      "Processing Weather Data for Record 448 of 623: Massena\n",
      "Processing Weather Data for Record 449 of 623: Malanje\n",
      "Processing Weather Data for Record 450 of 623: Lillooet\n",
      "Processing Weather Data for Record 451 of 623: Yaan\n",
      "Processing Weather Data for Record 452 of 623: Poum\n",
      "Processing Weather Data for Record 453 of 623: Dzaoudzi\n",
      "Processing Weather Data for Record 454 of 623: Paulo Afonso\n",
      "Processing Weather Data for Record 455 of 623: Chara\n",
      "Processing Weather Data for Record 456 of 623: Prado\n",
      "Processing Weather Data for Record 457 of 623: Tazmalt\n",
      "Processing Weather Data for Record 458 of 623: Nago\n",
      "Processing Weather Data for Record 459 of 623: Nemuro\n",
      "Processing Weather Data for Record 460 of 623: Rundu\n",
      "Processing Weather Data for Record 461 of 623: Hokitika\n",
      "andarab not found, on to the next one!\n",
      "Processing Weather Data for Record 462 of 623: Mangan\n",
      "Processing Weather Data for Record 463 of 623: Naze\n",
      "Processing Weather Data for Record 464 of 623: Neuquén\n",
      "kegayli not found, on to the next one!\n",
      "Processing Weather Data for Record 465 of 623: Xining\n",
      "Processing Weather Data for Record 466 of 623: Gawler\n",
      "Processing Weather Data for Record 467 of 623: Kensington\n",
      "Processing Weather Data for Record 468 of 623: Atambua\n",
      "Processing Weather Data for Record 469 of 623: Mīnāb\n",
      "Processing Weather Data for Record 470 of 623: Kilindoni\n",
      "Processing Weather Data for Record 471 of 623: Tessaoua\n",
      "Processing Weather Data for Record 472 of 623: Jimeta\n",
      "Processing Weather Data for Record 473 of 623: Yaviza\n",
      "Processing Weather Data for Record 474 of 623: San Juan\n",
      "Processing Weather Data for Record 475 of 623: Buinsk\n",
      "Processing Weather Data for Record 476 of 623: Gorontalo\n",
      "Processing Weather Data for Record 477 of 623: Beyneu\n",
      "Processing Weather Data for Record 478 of 623: Buta\n",
      "Processing Weather Data for Record 479 of 623: Zonguldak\n",
      "Processing Weather Data for Record 480 of 623: Ingham\n",
      "Processing Weather Data for Record 481 of 623: Ust'-Omchug\n",
      "Processing Weather Data for Record 482 of 623: Semarang\n",
      "Processing Weather Data for Record 483 of 623: Nishihara\n",
      "Processing Weather Data for Record 484 of 623: Uman'\n",
      "Processing Weather Data for Record 485 of 623: Dongsheng\n",
      "Processing Weather Data for Record 486 of 623: Shubarshi\n",
      "Processing Weather Data for Record 487 of 623: Gorom-Gorom\n",
      "dzhusaly not found, on to the next one!\n",
      "Processing Weather Data for Record 488 of 623: Hegang\n",
      "Processing Weather Data for Record 489 of 623: Zyryanka\n",
      "Processing Weather Data for Record 490 of 623: Antofagasta\n",
      "Processing Weather Data for Record 491 of 623: Chālūs\n",
      "Processing Weather Data for Record 492 of 623: Marand\n",
      "Processing Weather Data for Record 493 of 623: Manta\n",
      "Processing Weather Data for Record 494 of 623: Vanavara\n",
      "Processing Weather Data for Record 495 of 623: Walvis Bay\n",
      "Processing Weather Data for Record 496 of 623: General Pico\n",
      "Processing Weather Data for Record 497 of 623: Kanniyākumāri\n",
      "Processing Weather Data for Record 498 of 623: Carballo\n",
      "Processing Weather Data for Record 499 of 623: Alyangula\n",
      "Processing Weather Data for Record 500 of 623: Upata\n",
      "Processing Weather Data for Record 501 of 623: Johnston\n",
      "Processing Weather Data for Record 502 of 623: Wanxian\n",
      "Processing Weather Data for Record 503 of 623: Salalah\n",
      "berdyuzhye not found, on to the next one!\n",
      "Processing Weather Data for Record 504 of 623: Beloha\n",
      "Processing Weather Data for Record 505 of 623: Nerchinskiy Zavod\n",
      "Processing Weather Data for Record 506 of 623: De Aar\n",
      "Processing Weather Data for Record 507 of 623: Meridian\n",
      "Processing Weather Data for Record 508 of 623: Pudozh\n",
      "Processing Weather Data for Record 509 of 623: Souillac\n",
      "Processing Weather Data for Record 510 of 623: Kiryat Gat\n",
      "Processing Weather Data for Record 511 of 623: Mokhsogollokh\n",
      "Processing Weather Data for Record 512 of 623: Pajapan\n",
      "Processing Weather Data for Record 513 of 623: Sibulan\n",
      "Processing Weather Data for Record 514 of 623: Romilly-sur-Seine\n",
      "Processing Weather Data for Record 515 of 623: San Policarpo\n",
      "Processing Weather Data for Record 516 of 623: Kaseda-shirakame\n",
      "Processing Weather Data for Record 517 of 623: Siuna\n",
      "Processing Weather Data for Record 518 of 623: Bondo\n",
      "Processing Weather Data for Record 519 of 623: Tilichiki\n",
      "Processing Weather Data for Record 520 of 623: Japura\n",
      "geresk not found, on to the next one!\n",
      "Processing Weather Data for Record 521 of 623: Santa Rosa\n",
      "Processing Weather Data for Record 522 of 623: Góra\n",
      "formoso do araguaia not found, on to the next one!\n",
      "Processing Weather Data for Record 523 of 623: Kenai\n",
      "Processing Weather Data for Record 524 of 623: Chu\n",
      "bolungarvik not found, on to the next one!\n",
      "Processing Weather Data for Record 525 of 623: Port-Gentil\n",
      "Processing Weather Data for Record 526 of 623: Ribeira Brava\n",
      "Processing Weather Data for Record 527 of 623: Batemans Bay\n",
      "Processing Weather Data for Record 528 of 623: Elko\n",
      "karamea not found, on to the next one!\n",
      "Processing Weather Data for Record 529 of 623: At-Bashi\n",
      "Processing Weather Data for Record 530 of 623: Yanta\n",
      "Processing Weather Data for Record 531 of 623: Tezu\n",
      "Processing Weather Data for Record 532 of 623: Podosinovets\n",
      "Processing Weather Data for Record 533 of 623: Usinsk\n",
      "Processing Weather Data for Record 534 of 623: Mount Darwin\n",
      "Processing Weather Data for Record 535 of 623: Ormara\n",
      "Processing Weather Data for Record 536 of 623: Blackwater\n",
      "Processing Weather Data for Record 537 of 623: Sampit\n",
      "Processing Weather Data for Record 538 of 623: Krivogastani\n",
      "Processing Weather Data for Record 539 of 623: Vostok\n",
      "Processing Weather Data for Record 540 of 623: Spiridonovka\n",
      "Processing Weather Data for Record 541 of 623: Uruçuí\n",
      "Processing Weather Data for Record 542 of 623: Kharp\n",
      "Processing Weather Data for Record 543 of 623: Laas\n",
      "Processing Weather Data for Record 544 of 623: Doha\n",
      "Processing Weather Data for Record 545 of 623: São Paulo de Olivença\n",
      "Processing Weather Data for Record 546 of 623: Mozarlândia\n",
      "Processing Weather Data for Record 547 of 623: Taoudenni\n",
      "Processing Weather Data for Record 548 of 623: West Odessa\n",
      "Processing Weather Data for Record 549 of 623: Iskateley\n",
      "Processing Weather Data for Record 550 of 623: Port Hedland\n",
      "Processing Weather Data for Record 551 of 623: Georgiyevka\n",
      "Processing Weather Data for Record 552 of 623: Lerwick\n",
      "Processing Weather Data for Record 553 of 623: Baymak\n",
      "Processing Weather Data for Record 554 of 623: Vangaindrano\n",
      "Processing Weather Data for Record 555 of 623: Yerbogachën\n",
      "Processing Weather Data for Record 556 of 623: Iquique\n",
      "Processing Weather Data for Record 557 of 623: Ouro Fino\n",
      "Processing Weather Data for Record 558 of 623: San Vicente\n",
      "Processing Weather Data for Record 559 of 623: Sittwe\n",
      "Processing Weather Data for Record 560 of 623: Hukuntsi\n",
      "Processing Weather Data for Record 561 of 623: Novosergiyevka\n",
      "Processing Weather Data for Record 562 of 623: Talcahuano\n",
      "Processing Weather Data for Record 563 of 623: Pimentel\n",
      "Processing Weather Data for Record 564 of 623: Gourbeyre\n",
      "Processing Weather Data for Record 565 of 623: Phalombe\n",
      "Processing Weather Data for Record 566 of 623: Vila Franca do Campo\n",
      "Processing Weather Data for Record 567 of 623: Tāybād\n",
      "Processing Weather Data for Record 568 of 623: Bodden Town\n",
      "Processing Weather Data for Record 569 of 623: Viranşehir\n",
      "Processing Weather Data for Record 570 of 623: Poli\n",
      "Processing Weather Data for Record 571 of 623: Kavaratti\n",
      "----------------------------- Data Retrieval Complete -----------------------------\n"
     ]
    }
   ],
   "source": [
    "# Variables\n",
    "record_num = 1\n",
    "city_count = len(cities)\n",
    "print(\"----------------------------- Beginning Data Retrieval  -----------------------------\")\n",
    "MINUTE = 60\n",
    "@limits(calls=60, period=MINUTE)\n",
    "\n",
    "def data_retrieval():\n",
    "    global record_num\n",
    "    # Looping through city list and then appendinig results into dictionary\n",
    "    for city in cities:\n",
    "        query_url = f\"{base_url}appid={weather_api_key}&units=Imperial&q={city}\"\n",
    "        response = requests.get(query_url).json()\n",
    "        \n",
    "        try:\n",
    "            print(f'Processing Weather Data for Record {record_num} of {city_count}: {response[\"name\"]}')\n",
    "        \n",
    "            city_weather[\"City\"].append(response[\"name\"])\n",
    "            city_weather[\"Lat\"].append(response[\"coord\"][\"lat\"])\n",
    "            city_weather[\"Lng\"].append(response[\"coord\"][\"lon\"])\n",
    "            city_weather[\"Max Temp\"].append(response[\"main\"][\"temp_max\"])\n",
    "            city_weather[\"Humidity\"].append(response[\"main\"][\"humidity\"])\n",
    "            city_weather[\"Cloudiness\"].append(response[\"clouds\"][\"all\"])\n",
    "            city_weather[\"Wind Speed\"].append(response[\"wind\"][\"speed\"])\n",
    "            city_weather[\"Country\"].append(response[\"sys\"][\"country\"])\n",
    "            city_weather[\"Date\"].append(response[\"dt\"])\n",
    "            record_num +=1\n",
    "            \n",
    "        except(KeyError, IndexError):\n",
    "            print(f\"{city} not found, on to the next one!\")\n",
    "        pass\n",
    "\n",
    "data_retrieval()\n",
    "print(\"----------------------------- Data Retrieval Complete -----------------------------\")"
   ]
  },
  {
   "cell_type": "markdown",
   "metadata": {},
   "source": [
    "### Convert Raw Data to DataFrame\n",
    "* Export the city data into a .csv.\n",
    "* Display the DataFrame"
   ]
  },
  {
   "cell_type": "code",
   "execution_count": 5,
   "metadata": {},
   "outputs": [
    {
     "data": {
      "text/html": [
       "<div>\n",
       "<style scoped>\n",
       "    .dataframe tbody tr th:only-of-type {\n",
       "        vertical-align: middle;\n",
       "    }\n",
       "\n",
       "    .dataframe tbody tr th {\n",
       "        vertical-align: top;\n",
       "    }\n",
       "\n",
       "    .dataframe thead th {\n",
       "        text-align: right;\n",
       "    }\n",
       "</style>\n",
       "<table border=\"1\" class=\"dataframe\">\n",
       "  <thead>\n",
       "    <tr style=\"text-align: right;\">\n",
       "      <th></th>\n",
       "      <th>City</th>\n",
       "      <th>Lat</th>\n",
       "      <th>Lng</th>\n",
       "      <th>Max Temp</th>\n",
       "      <th>Humidity</th>\n",
       "      <th>Cloudiness</th>\n",
       "      <th>Wind Speed</th>\n",
       "      <th>Country</th>\n",
       "      <th>Date</th>\n",
       "    </tr>\n",
       "  </thead>\n",
       "  <tbody>\n",
       "    <tr>\n",
       "      <th>0</th>\n",
       "      <td>Saint George</td>\n",
       "      <td>37.1041</td>\n",
       "      <td>-113.5841</td>\n",
       "      <td>97.39</td>\n",
       "      <td>29</td>\n",
       "      <td>0</td>\n",
       "      <td>20.71</td>\n",
       "      <td>US</td>\n",
       "      <td>1659487398</td>\n",
       "    </tr>\n",
       "    <tr>\n",
       "      <th>1</th>\n",
       "      <td>Hofn</td>\n",
       "      <td>64.2539</td>\n",
       "      <td>-15.2082</td>\n",
       "      <td>48.69</td>\n",
       "      <td>73</td>\n",
       "      <td>49</td>\n",
       "      <td>11.41</td>\n",
       "      <td>IS</td>\n",
       "      <td>1659487664</td>\n",
       "    </tr>\n",
       "    <tr>\n",
       "      <th>2</th>\n",
       "      <td>Shimanovsk</td>\n",
       "      <td>52.0000</td>\n",
       "      <td>127.7000</td>\n",
       "      <td>76.48</td>\n",
       "      <td>59</td>\n",
       "      <td>0</td>\n",
       "      <td>5.99</td>\n",
       "      <td>RU</td>\n",
       "      <td>1659487665</td>\n",
       "    </tr>\n",
       "    <tr>\n",
       "      <th>3</th>\n",
       "      <td>Dolinsk</td>\n",
       "      <td>47.3500</td>\n",
       "      <td>142.8000</td>\n",
       "      <td>67.32</td>\n",
       "      <td>72</td>\n",
       "      <td>17</td>\n",
       "      <td>8.37</td>\n",
       "      <td>RU</td>\n",
       "      <td>1659487665</td>\n",
       "    </tr>\n",
       "    <tr>\n",
       "      <th>4</th>\n",
       "      <td>Sept-Îles</td>\n",
       "      <td>50.2001</td>\n",
       "      <td>-66.3821</td>\n",
       "      <td>68.00</td>\n",
       "      <td>91</td>\n",
       "      <td>75</td>\n",
       "      <td>5.75</td>\n",
       "      <td>CA</td>\n",
       "      <td>1659487657</td>\n",
       "    </tr>\n",
       "    <tr>\n",
       "      <th>...</th>\n",
       "      <td>...</td>\n",
       "      <td>...</td>\n",
       "      <td>...</td>\n",
       "      <td>...</td>\n",
       "      <td>...</td>\n",
       "      <td>...</td>\n",
       "      <td>...</td>\n",
       "      <td>...</td>\n",
       "      <td>...</td>\n",
       "    </tr>\n",
       "    <tr>\n",
       "      <th>566</th>\n",
       "      <td>Tāybād</td>\n",
       "      <td>34.7400</td>\n",
       "      <td>60.7756</td>\n",
       "      <td>75.69</td>\n",
       "      <td>33</td>\n",
       "      <td>0</td>\n",
       "      <td>11.77</td>\n",
       "      <td>IR</td>\n",
       "      <td>1659487816</td>\n",
       "    </tr>\n",
       "    <tr>\n",
       "      <th>567</th>\n",
       "      <td>Bodden Town</td>\n",
       "      <td>19.2833</td>\n",
       "      <td>-81.2500</td>\n",
       "      <td>86.00</td>\n",
       "      <td>78</td>\n",
       "      <td>20</td>\n",
       "      <td>11.50</td>\n",
       "      <td>KY</td>\n",
       "      <td>1659487817</td>\n",
       "    </tr>\n",
       "    <tr>\n",
       "      <th>568</th>\n",
       "      <td>Viranşehir</td>\n",
       "      <td>37.2353</td>\n",
       "      <td>39.7631</td>\n",
       "      <td>85.06</td>\n",
       "      <td>33</td>\n",
       "      <td>0</td>\n",
       "      <td>7.92</td>\n",
       "      <td>TR</td>\n",
       "      <td>1659487817</td>\n",
       "    </tr>\n",
       "    <tr>\n",
       "      <th>569</th>\n",
       "      <td>Poli</td>\n",
       "      <td>-3.3333</td>\n",
       "      <td>36.8000</td>\n",
       "      <td>52.41</td>\n",
       "      <td>89</td>\n",
       "      <td>27</td>\n",
       "      <td>2.01</td>\n",
       "      <td>TZ</td>\n",
       "      <td>1659487817</td>\n",
       "    </tr>\n",
       "    <tr>\n",
       "      <th>570</th>\n",
       "      <td>Kavaratti</td>\n",
       "      <td>10.5669</td>\n",
       "      <td>72.6420</td>\n",
       "      <td>79.99</td>\n",
       "      <td>80</td>\n",
       "      <td>100</td>\n",
       "      <td>23.98</td>\n",
       "      <td>IN</td>\n",
       "      <td>1659487817</td>\n",
       "    </tr>\n",
       "  </tbody>\n",
       "</table>\n",
       "<p>571 rows × 9 columns</p>\n",
       "</div>"
      ],
      "text/plain": [
       "             City      Lat       Lng  Max Temp  Humidity  Cloudiness  \\\n",
       "0    Saint George  37.1041 -113.5841     97.39        29           0   \n",
       "1            Hofn  64.2539  -15.2082     48.69        73          49   \n",
       "2      Shimanovsk  52.0000  127.7000     76.48        59           0   \n",
       "3         Dolinsk  47.3500  142.8000     67.32        72          17   \n",
       "4       Sept-Îles  50.2001  -66.3821     68.00        91          75   \n",
       "..            ...      ...       ...       ...       ...         ...   \n",
       "566        Tāybād  34.7400   60.7756     75.69        33           0   \n",
       "567   Bodden Town  19.2833  -81.2500     86.00        78          20   \n",
       "568    Viranşehir  37.2353   39.7631     85.06        33           0   \n",
       "569          Poli  -3.3333   36.8000     52.41        89          27   \n",
       "570     Kavaratti  10.5669   72.6420     79.99        80         100   \n",
       "\n",
       "     Wind Speed Country        Date  \n",
       "0         20.71      US  1659487398  \n",
       "1         11.41      IS  1659487664  \n",
       "2          5.99      RU  1659487665  \n",
       "3          8.37      RU  1659487665  \n",
       "4          5.75      CA  1659487657  \n",
       "..          ...     ...         ...  \n",
       "566       11.77      IR  1659487816  \n",
       "567       11.50      KY  1659487817  \n",
       "568        7.92      TR  1659487817  \n",
       "569        2.01      TZ  1659487817  \n",
       "570       23.98      IN  1659487817  \n",
       "\n",
       "[571 rows x 9 columns]"
      ]
     },
     "execution_count": 5,
     "metadata": {},
     "output_type": "execute_result"
    }
   ],
   "source": [
    "# Creating a DataFrame\n",
    "city_data_df = pd.DataFrame(city_weather)\n",
    "# Exporting to CSV\n",
    "city_data_df.to_csv(output_data_file, index_label=\"City_ID\")\n",
    "\n",
    "city_data_df"
   ]
  },
  {
   "cell_type": "code",
   "execution_count": 6,
   "metadata": {},
   "outputs": [
    {
     "data": {
      "text/html": [
       "<div>\n",
       "<style scoped>\n",
       "    .dataframe tbody tr th:only-of-type {\n",
       "        vertical-align: middle;\n",
       "    }\n",
       "\n",
       "    .dataframe tbody tr th {\n",
       "        vertical-align: top;\n",
       "    }\n",
       "\n",
       "    .dataframe thead th {\n",
       "        text-align: right;\n",
       "    }\n",
       "</style>\n",
       "<table border=\"1\" class=\"dataframe\">\n",
       "  <thead>\n",
       "    <tr style=\"text-align: right;\">\n",
       "      <th></th>\n",
       "      <th>Lat</th>\n",
       "      <th>Lng</th>\n",
       "      <th>Max Temp</th>\n",
       "      <th>Humidity</th>\n",
       "      <th>Cloudiness</th>\n",
       "      <th>Wind Speed</th>\n",
       "      <th>Date</th>\n",
       "    </tr>\n",
       "  </thead>\n",
       "  <tbody>\n",
       "    <tr>\n",
       "      <th>0</th>\n",
       "      <td>37.1041</td>\n",
       "      <td>-113.5841</td>\n",
       "      <td>97.39</td>\n",
       "      <td>29</td>\n",
       "      <td>0</td>\n",
       "      <td>20.71</td>\n",
       "      <td>1659487398</td>\n",
       "    </tr>\n",
       "    <tr>\n",
       "      <th>1</th>\n",
       "      <td>64.2539</td>\n",
       "      <td>-15.2082</td>\n",
       "      <td>48.69</td>\n",
       "      <td>73</td>\n",
       "      <td>49</td>\n",
       "      <td>11.41</td>\n",
       "      <td>1659487664</td>\n",
       "    </tr>\n",
       "    <tr>\n",
       "      <th>2</th>\n",
       "      <td>52.0000</td>\n",
       "      <td>127.7000</td>\n",
       "      <td>76.48</td>\n",
       "      <td>59</td>\n",
       "      <td>0</td>\n",
       "      <td>5.99</td>\n",
       "      <td>1659487665</td>\n",
       "    </tr>\n",
       "    <tr>\n",
       "      <th>3</th>\n",
       "      <td>47.3500</td>\n",
       "      <td>142.8000</td>\n",
       "      <td>67.32</td>\n",
       "      <td>72</td>\n",
       "      <td>17</td>\n",
       "      <td>8.37</td>\n",
       "      <td>1659487665</td>\n",
       "    </tr>\n",
       "    <tr>\n",
       "      <th>4</th>\n",
       "      <td>50.2001</td>\n",
       "      <td>-66.3821</td>\n",
       "      <td>68.00</td>\n",
       "      <td>91</td>\n",
       "      <td>75</td>\n",
       "      <td>5.75</td>\n",
       "      <td>1659487657</td>\n",
       "    </tr>\n",
       "  </tbody>\n",
       "</table>\n",
       "</div>"
      ],
      "text/plain": [
       "       Lat       Lng  Max Temp  Humidity  Cloudiness  Wind Speed        Date\n",
       "0  37.1041 -113.5841     97.39        29           0       20.71  1659487398\n",
       "1  64.2539  -15.2082     48.69        73          49       11.41  1659487664\n",
       "2  52.0000  127.7000     76.48        59           0        5.99  1659487665\n",
       "3  47.3500  142.8000     67.32        72          17        8.37  1659487665\n",
       "4  50.2001  -66.3821     68.00        91          75        5.75  1659487657"
      ]
     },
     "execution_count": 6,
     "metadata": {},
     "output_type": "execute_result"
    }
   ],
   "source": [
    "# Creating a Summary Stats Table\n",
    "lat = city_data_df[\"Lat\"]\n",
    "lng = city_data_df[\"Lng\"]\n",
    "max_temp = city_data_df[\"Max Temp\"]\n",
    "humidity = city_data_df[\"Humidity\"]\n",
    "cloudiness = city_data_df[\"Cloudiness\"]\n",
    "wind_speed = city_data_df[\"Wind Speed\"]\n",
    "date = city_data_df[\"Date\"]\n",
    "\n",
    "data_table = pd.DataFrame({\"Lat\":lat,\n",
    "                          \"Lng\":lng,\n",
    "                          \"Max Temp\":max_temp,\n",
    "                          \"Humidity\":humidity,\n",
    "                          \"Cloudiness\":cloudiness,\n",
    "                          \"Wind Speed\":wind_speed,\n",
    "                          \"Date\":date})\n",
    "data_table.head()"
   ]
  },
  {
   "cell_type": "markdown",
   "metadata": {},
   "source": [
    "## Inspect the data and remove the cities where the humidity > 100%.\n",
    "----\n",
    "Skip this step if there are no cities that have humidity > 100%. "
   ]
  },
  {
   "cell_type": "code",
   "execution_count": 7,
   "metadata": {},
   "outputs": [
    {
     "name": "stdout",
     "output_type": "stream",
     "text": [
      "Empty DataFrame\n",
      "Columns: [Lat, Lng, Max Temp, Humidity, Cloudiness, Wind Speed, Date]\n",
      "Index: []\n"
     ]
    }
   ],
   "source": [
    "#  Get the indices of cities that have humidity over 100%.\n",
    "print(data_table.loc[data_table['Humidity'] > 100])"
   ]
  },
  {
   "cell_type": "code",
   "execution_count": 8,
   "metadata": {},
   "outputs": [
    {
     "data": {
      "text/html": [
       "<div>\n",
       "<style scoped>\n",
       "    .dataframe tbody tr th:only-of-type {\n",
       "        vertical-align: middle;\n",
       "    }\n",
       "\n",
       "    .dataframe tbody tr th {\n",
       "        vertical-align: top;\n",
       "    }\n",
       "\n",
       "    .dataframe thead th {\n",
       "        text-align: right;\n",
       "    }\n",
       "</style>\n",
       "<table border=\"1\" class=\"dataframe\">\n",
       "  <thead>\n",
       "    <tr style=\"text-align: right;\">\n",
       "      <th></th>\n",
       "      <th>City</th>\n",
       "      <th>Lat</th>\n",
       "      <th>Lng</th>\n",
       "      <th>Max Temp</th>\n",
       "      <th>Humidity</th>\n",
       "      <th>Cloudiness</th>\n",
       "      <th>Wind Speed</th>\n",
       "      <th>Country</th>\n",
       "      <th>Date</th>\n",
       "    </tr>\n",
       "  </thead>\n",
       "  <tbody>\n",
       "    <tr>\n",
       "      <th>0</th>\n",
       "      <td>Saint George</td>\n",
       "      <td>37.1041</td>\n",
       "      <td>-113.5841</td>\n",
       "      <td>97.39</td>\n",
       "      <td>29</td>\n",
       "      <td>0</td>\n",
       "      <td>20.71</td>\n",
       "      <td>US</td>\n",
       "      <td>1659487398</td>\n",
       "    </tr>\n",
       "    <tr>\n",
       "      <th>1</th>\n",
       "      <td>Hofn</td>\n",
       "      <td>64.2539</td>\n",
       "      <td>-15.2082</td>\n",
       "      <td>48.69</td>\n",
       "      <td>73</td>\n",
       "      <td>49</td>\n",
       "      <td>11.41</td>\n",
       "      <td>IS</td>\n",
       "      <td>1659487664</td>\n",
       "    </tr>\n",
       "    <tr>\n",
       "      <th>2</th>\n",
       "      <td>Shimanovsk</td>\n",
       "      <td>52.0000</td>\n",
       "      <td>127.7000</td>\n",
       "      <td>76.48</td>\n",
       "      <td>59</td>\n",
       "      <td>0</td>\n",
       "      <td>5.99</td>\n",
       "      <td>RU</td>\n",
       "      <td>1659487665</td>\n",
       "    </tr>\n",
       "    <tr>\n",
       "      <th>3</th>\n",
       "      <td>Dolinsk</td>\n",
       "      <td>47.3500</td>\n",
       "      <td>142.8000</td>\n",
       "      <td>67.32</td>\n",
       "      <td>72</td>\n",
       "      <td>17</td>\n",
       "      <td>8.37</td>\n",
       "      <td>RU</td>\n",
       "      <td>1659487665</td>\n",
       "    </tr>\n",
       "    <tr>\n",
       "      <th>4</th>\n",
       "      <td>Sept-Îles</td>\n",
       "      <td>50.2001</td>\n",
       "      <td>-66.3821</td>\n",
       "      <td>68.00</td>\n",
       "      <td>91</td>\n",
       "      <td>75</td>\n",
       "      <td>5.75</td>\n",
       "      <td>CA</td>\n",
       "      <td>1659487657</td>\n",
       "    </tr>\n",
       "  </tbody>\n",
       "</table>\n",
       "</div>"
      ],
      "text/plain": [
       "           City      Lat       Lng  Max Temp  Humidity  Cloudiness  \\\n",
       "0  Saint George  37.1041 -113.5841     97.39        29           0   \n",
       "1          Hofn  64.2539  -15.2082     48.69        73          49   \n",
       "2    Shimanovsk  52.0000  127.7000     76.48        59           0   \n",
       "3       Dolinsk  47.3500  142.8000     67.32        72          17   \n",
       "4     Sept-Îles  50.2001  -66.3821     68.00        91          75   \n",
       "\n",
       "   Wind Speed Country        Date  \n",
       "0       20.71      US  1659487398  \n",
       "1       11.41      IS  1659487664  \n",
       "2        5.99      RU  1659487665  \n",
       "3        8.37      RU  1659487665  \n",
       "4        5.75      CA  1659487657  "
      ]
     },
     "execution_count": 8,
     "metadata": {},
     "output_type": "execute_result"
    }
   ],
   "source": [
    "# Make a new DataFrame equal to the city data to drop all humidity outliers by index.\n",
    "# Passing \"inplace=False\" will make a copy of the city_data DataFrame, which we call \"clean_city_data\".\n",
    "clean_city_data = city_data_df.dropna(inplace=False)\n",
    "clean_city_data.head()"
   ]
  },
  {
   "cell_type": "markdown",
   "metadata": {},
   "source": [
    "## Plotting the Data\n",
    "* Use proper labeling of the plots using plot titles (including date of analysis) and axes labels.\n",
    "* Save the plotted figures as .pngs."
   ]
  },
  {
   "cell_type": "markdown",
   "metadata": {},
   "source": [
    "## Latitude vs. Temperature Plot"
   ]
  },
  {
   "cell_type": "code",
   "execution_count": 9,
   "metadata": {
    "scrolled": true
   },
   "outputs": [
    {
     "data": {
      "image/png": "[encoded data removed]",
      "text/plain": [
       "<Figure size 432x288 with 1 Axes>"
      ]
     },
     "metadata": {
      "needs_background": "light"
     },
     "output_type": "display_data"
    }
   ],
   "source": [
    "plt.scatter(city_weather[\"Lat\"],city_weather[\"Max Temp\"], facecolor=\"green\", edgecolor=\"black\")\n",
    "plt.title(\"City Latitude vs Max Temperature (F)\")\n",
    "plt.xlabel(\"Latitude\")\n",
    "plt.ylabel(\"Max Temperature (F)\")\n",
    "plt.savefig(\"Images/City Latitude vs Max Temperature.png\")"
   ]
  },
  {
   "cell_type": "markdown",
   "metadata": {},
   "source": [
    "This scatterplot shows the relationship of latitude to max temperature for all chosen cities in the northern and southern hemisphere's. We can see here that there is a strong, non-linear relationship between latitude and max temperature. "
   ]
  },
  {
   "cell_type": "markdown",
   "metadata": {},
   "source": [
    "## Latitude vs. Humidity Plot"
   ]
  },
  {
   "cell_type": "code",
   "execution_count": 10,
   "metadata": {},
   "outputs": [
    {
     "data": {
      "image/png": "[encoded data removed]",
      "text/plain": [
       "<Figure size 432x288 with 1 Axes>"
      ]
     },
     "metadata": {
      "needs_background": "light"
     },
     "output_type": "display_data"
    }
   ],
   "source": [
    "plt.scatter(city_weather[\"Lat\"],city_weather[\"Humidity\"], facecolor=\"green\", edgecolor=\"black\")\n",
    "plt.title(\"City Latitude vs Humidity\")\n",
    "plt.xlabel(\"Latitude\")\n",
    "plt.ylabel(\"Humidity (%)\")\n",
    "plt.savefig(\"Images/City Latitude vs Humidity.png\")"
   ]
  },
  {
   "cell_type": "markdown",
   "metadata": {},
   "source": [
    "This scatterplot shows the correlation between latitude and humidity for all chosen cities in the northern and southern hemisphere. There is an even distribution of plot points which suggets that there is no relationship between latitude and humidity percentages, but it is clustered above 50% humidity."
   ]
  },
  {
   "cell_type": "markdown",
   "metadata": {},
   "source": [
    "## Latitude vs. Cloudiness Plot"
   ]
  },
  {
   "cell_type": "code",
   "execution_count": 11,
   "metadata": {},
   "outputs": [
    {
     "data": {
      "image/png": "[encoded data removed]",
      "text/plain": [
       "<Figure size 432x288 with 1 Axes>"
      ]
     },
     "metadata": {
      "needs_background": "light"
     },
     "output_type": "display_data"
    }
   ],
   "source": [
    "plt.scatter(city_weather[\"Lat\"],city_weather[\"Cloudiness\"], facecolor=\"green\", edgecolor=\"black\")\n",
    "plt.title(\"City Latitude vs Cloudiness (%)\")\n",
    "plt.xlabel(\"Latitude\")\n",
    "plt.ylabel(\"Cloudiness (%)\")\n",
    "plt.savefig(\"Images/City Latitude vs Cloudiness.png\")"
   ]
  },
  {
   "cell_type": "markdown",
   "metadata": {},
   "source": [
    "This scatterplot shows the correlation between latitude and cloudiness for all chosen cities in the northern and southern hemisphere. There appears to be no relationship between latitude and cloudiness."
   ]
  },
  {
   "cell_type": "markdown",
   "metadata": {},
   "source": [
    "## Latitude vs. Wind Speed Plot"
   ]
  },
  {
   "cell_type": "code",
   "execution_count": 12,
   "metadata": {},
   "outputs": [
    {
     "data": {
      "image/png": "[encoded data removed]",
      "text/plain": [
       "<Figure size 432x288 with 1 Axes>"
      ]
     },
     "metadata": {
      "needs_background": "light"
     },
     "output_type": "display_data"
    }
   ],
   "source": [
    "plt.scatter(city_weather[\"Lat\"],city_weather[\"Wind Speed\"], facecolor=\"green\", edgecolor=\"black\")\n",
    "plt.title(\"City Latitude vs Wind Speed (mph)\")\n",
    "plt.xlabel(\"Latitude\")\n",
    "plt.ylabel(\"Wind Speed (mph)\")\n",
    "plt.savefig(\"Images/City Latitude vs Wind Speed.png\")"
   ]
  },
  {
   "cell_type": "markdown",
   "metadata": {},
   "source": [
    "This scatterplot shows the relationship for latitude and wind speed for all chosen cities in the northern and southern hemisphere. There appears to be no relationship shown, with most of the values being below 15 mph. "
   ]
  },
  {
   "cell_type": "markdown",
   "metadata": {},
   "source": [
    "## Linear Regression"
   ]
  },
  {
   "cell_type": "code",
   "execution_count": 13,
   "metadata": {},
   "outputs": [],
   "source": [
    "# First Separate Northern Hemisphere from Southern Hemisphere\n",
    "\n",
    "northern_hemisphere = clean_city_data.loc[clean_city_data[\"Lat\"] >= 0]\n",
    "southern_hemisphere = clean_city_data.loc[clean_city_data[\"Lat\"] < 0]"
   ]
  },
  {
   "cell_type": "code",
   "execution_count": 14,
   "metadata": {},
   "outputs": [],
   "source": [
    "# Creating a function for Linear Regression\n",
    "def linregress(x,y):\n",
    "    (slope, intercept, rvalue, pvalue, stderr) = st.linregress(x, y)\n",
    "    regress_values = x * slope + intercept\n",
    "    line_eq = \"y = \" + str(round(slope,2)) + \"x + \" + str(round(intercept,2))\n",
    "    plt.scatter(x, y)\n",
    "    plt.plot(x,regress_values,\"r-\")\n",
    "    return line_eq"
   ]
  },
  {
   "cell_type": "markdown",
   "metadata": {},
   "source": [
    "####  Northern Hemisphere - Max Temp vs. Latitude Linear Regression"
   ]
  },
  {
   "cell_type": "code",
   "execution_count": 15,
   "metadata": {},
   "outputs": [
    {
     "name": "stdout",
     "output_type": "stream",
     "text": [
      "The correlation between max temperature and latitude in the northern hemisphere is -0.66\n"
     ]
    },
    {
     "data": {
      "image/png": "[encoded data removed]",
      "text/plain": [
       "<Figure size 432x288 with 1 Axes>"
      ]
     },
     "metadata": {
      "needs_background": "light"
     },
     "output_type": "display_data"
    }
   ],
   "source": [
    "# Linear Regression Model fx 1\n",
    "\n",
    "equation = linregress(northern_hemisphere[\"Max Temp\"],northern_hemisphere[\"Lat\"])\n",
    "\n",
    "# Fx 2\n",
    "plt.annotate(equation,(5.8,0.8),fontsize=15)\n",
    "correlation = st.pearsonr(northern_hemisphere[\"Max Temp\"],northern_hemisphere[\"Lat\"])\n",
    "print(f\"The correlation between max temperature and latitude in the northern hemisphere is {round(correlation[0],2)}\")\n",
    "\n",
    "\n",
    "# Formatting\n",
    "plt.xlabel(\"Max Temperature (F)\")\n",
    "plt.ylabel(\"Latitude\")\n",
    "plt.title(\"Northern Hemisphere: Max Temp and Latitude Linear Regression\")\n",
    "plt.savefig(\"Images/Northern Hemisphere - Max Temp vs Latitude Linear Regression\")\n"
   ]
  },
  {
   "cell_type": "markdown",
   "metadata": {},
   "source": [
    "####  Southern Hemisphere - Max Temp vs. Latitude Linear Regression"
   ]
  },
  {
   "cell_type": "code",
   "execution_count": 16,
   "metadata": {},
   "outputs": [
    {
     "name": "stdout",
     "output_type": "stream",
     "text": [
      "The correlation between max temperature and latitude in the southern hemisphere is 0.73\n"
     ]
    },
    {
     "data": {
      "image/png": "[encoded data removed]",
      "text/plain": [
       "<Figure size 432x288 with 1 Axes>"
      ]
     },
     "metadata": {
      "needs_background": "light"
     },
     "output_type": "display_data"
    }
   ],
   "source": [
    "# Linear Regression Model fx 1\n",
    "\n",
    "equation = linregress(southern_hemisphere[\"Max Temp\"],southern_hemisphere[\"Lat\"])\n",
    "\n",
    "# Fx 2\n",
    "plt.annotate(equation,(5.8,0.8),fontsize=15)\n",
    "correlation = st.pearsonr(southern_hemisphere[\"Max Temp\"],southern_hemisphere[\"Lat\"])\n",
    "print(f\"The correlation between max temperature and latitude in the southern hemisphere is {round(correlation[0],2)}\")\n",
    "\n",
    "# Formatting\n",
    "plt.xlabel(\"Max Temperature (F)\")\n",
    "plt.ylabel(\"Latitude\")\n",
    "plt.title(\"Southern Hemisphere: Max Temp and Latitude Linear Regression\")\n",
    "plt.savefig(\"Images/Southern Hemisphere - Max Temp vs Latitude Linear Regression\")\n",
    "\n"
   ]
  },
  {
   "cell_type": "markdown",
   "metadata": {},
   "source": [
    "This pair of scatterplots goes deeper into evaluating the relationship between max temperature and latitude by separating the values between the northern and southern hemispheres. Upon first glance we can see that both hemisphere's are opposite from eachother, with there being a strong negative correlation between max temperature and latitude in the northern hemisphere but a strong positive relationship in the southern hemisphere. "
   ]
  },
  {
   "cell_type": "markdown",
   "metadata": {},
   "source": [
    "####  Northern Hemisphere - Humidity (%) vs. Latitude Linear Regression"
   ]
  },
  {
   "cell_type": "code",
   "execution_count": 17,
   "metadata": {},
   "outputs": [
    {
     "name": "stdout",
     "output_type": "stream",
     "text": [
      "The correlation between humidity and latitude is 0.09\n"
     ]
    },
    {
     "data": {
      "image/png": "[encoded data removed]",
      "text/plain": [
       "<Figure size 432x288 with 1 Axes>"
      ]
     },
     "metadata": {
      "needs_background": "light"
     },
     "output_type": "display_data"
    }
   ],
   "source": [
    "# Linear Regression Model fx 1\n",
    "\n",
    "equation = linregress(northern_hemisphere[\"Humidity\"],northern_hemisphere[\"Lat\"])\n",
    "\n",
    "# Fx 2\n",
    "plt.annotate(equation,(5.8,0.8),fontsize=15)\n",
    "correlation = st.pearsonr(southern_hemisphere[\"Humidity\"],southern_hemisphere[\"Lat\"])\n",
    "print(f\"The correlation between humidity and latitude is {round(correlation[0],2)}\")\n",
    "\n",
    "\n",
    "# Formatting\n",
    "plt.xlabel(\"Humidity (%)\")\n",
    "plt.ylabel(\"Latitude\")\n",
    "plt.title(\"Northern Hemisphere: Humidity and Latitude Linear Regression\")\n",
    "plt.savefig(\"Images/Northern Hemisphere - Humidity vs Latitude Linear Regression\")"
   ]
  },
  {
   "cell_type": "markdown",
   "metadata": {},
   "source": [
    "####  Southern Hemisphere - Humidity (%) vs. Latitude Linear Regression"
   ]
  },
  {
   "cell_type": "code",
   "execution_count": 18,
   "metadata": {},
   "outputs": [
    {
     "name": "stdout",
     "output_type": "stream",
     "text": [
      "The correlation between humidity and latitude is 0.09\n"
     ]
    },
    {
     "data": {
      "image/png": "[encoded data removed]",
      "text/plain": [
       "<Figure size 432x288 with 1 Axes>"
      ]
     },
     "metadata": {
      "needs_background": "light"
     },
     "output_type": "display_data"
    }
   ],
   "source": [
    "# Linear Regression Model fx 1\n",
    "\n",
    "equation = linregress(southern_hemisphere[\"Humidity\"],southern_hemisphere[\"Lat\"])\n",
    "\n",
    "# Fx 2\n",
    "plt.annotate(equation,(5.8,0.8),fontsize=15)\n",
    "correlation = st.pearsonr(southern_hemisphere[\"Humidity\"],southern_hemisphere[\"Lat\"])\n",
    "print(f\"The correlation between humidity and latitude is {round(correlation[0],2)}\")\n",
    "\n",
    "# Formatting\n",
    "plt.xlabel(\"Humidity (%)\")\n",
    "plt.ylabel(\"Latitude\")\n",
    "plt.title(\"Southern Hemisphere: Humidity and Latitude Linear Regression\")\n",
    "plt.savefig(\"Images/Southern Hemisphere - Humidity vs Latitude Linear Regression\")"
   ]
  },
  {
   "cell_type": "markdown",
   "metadata": {},
   "source": [
    "This pair of scatterplots goes deeper into evaluating the relationship between max temperature and latitude by separating the values between the northern and southern hemispheres. We can see that both plots show the same relationship and correlation, suggesting that there is no relationship between humidity and latitude. "
   ]
  },
  {
   "cell_type": "markdown",
   "metadata": {},
   "source": [
    "####  Northern Hemisphere - Cloudiness (%) vs. Latitude Linear Regression"
   ]
  },
  {
   "cell_type": "code",
   "execution_count": 19,
   "metadata": {},
   "outputs": [
    {
     "name": "stdout",
     "output_type": "stream",
     "text": [
      "The correlation between cloudiness and latitude is -0.01\n"
     ]
    },
    {
     "data": {
      "image/png": "[encoded data removed]",
      "text/plain": [
       "<Figure size 432x288 with 1 Axes>"
      ]
     },
     "metadata": {
      "needs_background": "light"
     },
     "output_type": "display_data"
    }
   ],
   "source": [
    "# Linear Regression Model fx 1\n",
    "\n",
    "equation = linregress(northern_hemisphere[\"Cloudiness\"],northern_hemisphere[\"Lat\"])\n",
    "\n",
    "# Fx 2\n",
    "plt.annotate(equation,(5.8,0.8),fontsize=15)\n",
    "correlation = st.pearsonr(northern_hemisphere[\"Cloudiness\"],northern_hemisphere[\"Lat\"])\n",
    "print(f\"The correlation between cloudiness and latitude is {round(correlation[0],2)}\")\n",
    "\n",
    "# Formatting\n",
    "plt.xlabel(\"Cloudiness (%)\")\n",
    "plt.ylabel(\"Latitude\")\n",
    "plt.title(\"Northern Hemisphere: Cloudiness and Latitude Linear Regression\")\n",
    "plt.savefig(\"Images/Northern Hemisphere - Cloudiness vs Latitude Linear Regression\")"
   ]
  },
  {
   "cell_type": "markdown",
   "metadata": {},
   "source": [
    "####  Southern Hemisphere - Cloudiness (%) vs. Latitude Linear Regression"
   ]
  },
  {
   "cell_type": "code",
   "execution_count": 20,
   "metadata": {},
   "outputs": [
    {
     "name": "stdout",
     "output_type": "stream",
     "text": [
      "The correlation between cloudiness and latitude is 0.09\n"
     ]
    },
    {
     "data": {
      "image/png": "[encoded data removed]",
      "text/plain": [
       "<Figure size 432x288 with 1 Axes>"
      ]
     },
     "metadata": {
      "needs_background": "light"
     },
     "output_type": "display_data"
    }
   ],
   "source": [
    "# Linear Regression Model fx 1\n",
    "\n",
    "equation = linregress(southern_hemisphere[\"Cloudiness\"],southern_hemisphere[\"Lat\"])\n",
    "\n",
    "# Fx 2\n",
    "plt.annotate(equation,(5.8,0.8),fontsize=15)\n",
    "correlation = st.pearsonr(southern_hemisphere[\"Cloudiness\"],southern_hemisphere[\"Lat\"])\n",
    "print(f\"The correlation between cloudiness and latitude is {round(correlation[0],2)}\")\n",
    "\n",
    "# Formatting\n",
    "plt.xlabel(\"Cloudiness (%)\")\n",
    "plt.ylabel(\"Latitude\")\n",
    "plt.title(\"Southern Hemisphere: Cloudiness and Latitude Linear Regression\")\n",
    "plt.savefig(\"Images/Southern Hemisphere - Cloudiness vs Latitude Linear Regression\")\n"
   ]
  },
  {
   "cell_type": "markdown",
   "metadata": {},
   "source": [
    "This pair of scatterplots goes deeper into evaluating the relationship between cloudiness and latitude by separating the values between the northern and southern hemispheres. There appears to be no coorrelation between cloudiness and latiitude in both hemispheres. "
   ]
  },
  {
   "cell_type": "markdown",
   "metadata": {},
   "source": [
    "####  Northern Hemisphere - Wind Speed (mph) vs. Latitude Linear Regression"
   ]
  },
  {
   "cell_type": "code",
   "execution_count": 21,
   "metadata": {},
   "outputs": [
    {
     "name": "stdout",
     "output_type": "stream",
     "text": [
      "The correlation between wind speed and latitude is 0.07\n"
     ]
    },
    {
     "data": {
      "image/png": "[encoded data removed]",
      "text/plain": [
       "<Figure size 432x288 with 1 Axes>"
      ]
     },
     "metadata": {
      "needs_background": "light"
     },
     "output_type": "display_data"
    }
   ],
   "source": [
    "# Linear Regression Model fx 1\n",
    "\n",
    "equation = linregress(northern_hemisphere[\"Wind Speed\"],northern_hemisphere[\"Lat\"])\n",
    "\n",
    "# Fx 2\n",
    "plt.annotate(equation,(5.8,0.8),fontsize=15)\n",
    "correlation = st.pearsonr(northern_hemisphere[\"Wind Speed\"],northern_hemisphere[\"Lat\"])\n",
    "print(f\"The correlation between wind speed and latitude is {round(correlation[0],2)}\")\n",
    "\n",
    "# Formatting\n",
    "plt.xlabel(\"Wind Speed (mph)\")\n",
    "plt.ylabel(\"Latitude\")\n",
    "plt.title(\"Northern Hemisphere: Wind Speed (mph) and Latitude Linear Regression\")\n",
    "plt.savefig(\"Images/Northern Hemisphere - Wind Speed (mph) vs Latitude Linear Regression\")"
   ]
  },
  {
   "cell_type": "markdown",
   "metadata": {},
   "source": [
    "####  Southern Hemisphere - Wind Speed (mph) vs. Latitude Linear Regression"
   ]
  },
  {
   "cell_type": "code",
   "execution_count": 22,
   "metadata": {},
   "outputs": [
    {
     "name": "stdout",
     "output_type": "stream",
     "text": [
      "The correlation between wind speed and latitude is -0.2\n"
     ]
    },
    {
     "data": {
      "image/png": "[encoded data removed]",
      "text/plain": [
       "<Figure size 432x288 with 1 Axes>"
      ]
     },
     "metadata": {
      "needs_background": "light"
     },
     "output_type": "display_data"
    }
   ],
   "source": [
    "# Linear Regression Model fx 1\n",
    "\n",
    "equation = linregress(southern_hemisphere[\"Wind Speed\"],southern_hemisphere[\"Lat\"])\n",
    "\n",
    "\n",
    "# Fx 2\n",
    "plt.annotate(equation,(5.8,0.8),fontsize=15)\n",
    "correlation = st.pearsonr(southern_hemisphere[\"Wind Speed\"],southern_hemisphere[\"Lat\"])\n",
    "print(f\"The correlation between wind speed and latitude is {round(correlation[0],2)}\")\n",
    "\n",
    "# Formatting\n",
    "plt.xlabel(\"Wind Speed (mph)\")\n",
    "plt.ylabel(\"Latitude\")\n",
    "plt.title(\"Southern Hemisphere: Wind Speed (mph) and Latitude Linear Regression\")\n",
    "plt.savefig(\"Images/Southern Hemisphere - Wind Speed (mph) vs Latitude Linear Regression\")"
   ]
  },
  {
   "cell_type": "markdown",
   "metadata": {},
   "source": [
    "This pair of scatterplots goes deeper into evaluating the relationship between wind speed and latitude by separating the values between the northern and southern hemispheres. There appears to be a negative correlation in both hemispheres between wind speed and latitude. "
   ]
  }
 ],
 "metadata": {
  "anaconda-cloud": {},
  "kernel_info": {
   "name": "python3"
  },
  "kernelspec": {
   "display_name": "Python 3 (ipykernel)",
   "language": "python",
   "name": "python3"
  },
  "language_info": {
   "codemirror_mode": {
    "name": "ipython",
    "version": 3
   },
   "file_extension": ".py",
   "mimetype": "text/x-python",
   "name": "python",
   "nbconvert_exporter": "python",
   "pygments_lexer": "ipython3",
   "version": "3.9.12"
  },
  "latex_envs": {
   "LaTeX_envs_menu_present": true,
   "autoclose": false,
   "autocomplete": true,
   "bibliofile": "biblio.bib",
   "cite_by": "apalike",
   "current_citInitial": 1,
   "eqLabelWithNumbers": true,
   "eqNumInitial": 1,
   "hotkeys": {
    "equation": "Ctrl-E",
    "itemize": "Ctrl-I"
   },
   "labels_anchors": false,
   "latex_user_defs": false,
   "report_style_numbering": false,
   "user_envs_cfg": false
  },
  "nteract": {
   "version": "0.12.3"
  }
 },
 "nbformat": 4,
 "nbformat_minor": 4
}
