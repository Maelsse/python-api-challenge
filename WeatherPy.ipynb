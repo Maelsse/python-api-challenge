{
 "cells": [
  {
   "cell_type": "markdown",
   "metadata": {},
   "source": [
    "# WeatherPy\n",
    "----\n",
    "\n",
    "#### Note\n",
    "* Instructions have been included for each segment. You do not have to follow them exactly, but they are included to help you think through the steps."
   ]
  },
  {
   "cell_type": "code",
   "execution_count": 1,
   "metadata": {
    "scrolled": true
   },
   "outputs": [],
   "source": [
    "# Dependencies and Setup\n",
    "import matplotlib.pyplot as plt\n",
    "import pandas as pd\n",
    "import numpy as np\n",
    "import requests\n",
    "import json\n",
    "import time\n",
    "from ratelimit import limits\n",
    "from scipy.stats import linregress\n",
    "import scipy.stats as st\n",
    "\n",
    "# Import API key\n",
    "from api_keys import weather_api_key\n",
    "\n",
    "# Incorporated citipy to determine city based on latitude and longitude\n",
    "from citipy import citipy\n",
    "\n",
    "# Output File (CSV)\n",
    "output_data_file = \"output_data/cities.csv\"\n",
    "\n",
    "# Range of latitudes and longitudes\n",
    "lat_range = (-90, 90)\n",
    "lng_range = (-180, 180)"
   ]
  },
  {
   "cell_type": "markdown",
   "metadata": {},
   "source": [
    "## Generate Cities List"
   ]
  },
  {
   "cell_type": "code",
   "execution_count": 2,
   "metadata": {},
   "outputs": [
    {
     "name": "stdout",
     "output_type": "stream",
     "text": [
      "['faanui', 'oksfjord', 'padang', 'nikolskoye', 'vaini', 'lagoa', 'ngunguru', 'barrow', 'ati', 'ijaki', 'albany', 'ushuaia', 'afua', 'yulara', 'rikitea', 'gladstone', 'hobart', 'ribeira grande', 'obidos', 'mar del plata', 'bluff', 'vila franca do campo', 'majholi', 'linchuan', 'samusu', 'pontianak', 'buala', 'port alfred', 'hithadhoo', 'thompson', 'barentsburg', 'solnechnyy', 'ust-koksa', 'arraial do cabo', 'touros', 'hermanus', 'muravlenko', 'cabo san lucas', 'lockhart', 'hofn', 'saint-philippe', 'geraldton', 'attawapiskat', 'amderma', 'clyde river', 'illoqqortoormiut', 'portland', 'busselton', 'dikson', 'kaitangata', 'nanortalik', 'lasa', 'zabol', 'punta arenas', 'torbay', 'butaritari', 'nizwa', 'salalah', 'carnarvon', 'new norfolk', 'san cristobal', 'taolanaro', 'temaraia', 'iqaluit', 'te anau', 'garissa', 'mataura', 'cape town', 'kaminokawa', 'la puebla de cazalla', 'acapulco', 'talnakh', 'hilo', 'atuona', 'bethel', 'jamestown', 'biak', 'bredasdorp', 'terre haute', 'calmar', 'corowa', 'narsaq', 'cherskiy', 'rio gallegos', 'namibe', 'sofia', 'humenne', 'mansfield', 'kesan', 'kodiak', 'avarua', 'lebu', 'port lincoln', 'havre-saint-pierre', 'kavieng', 'chuy', 'port-gentil', 'pevek', 'victoria', 'porto novo', 'morant bay', 'azimur', 'belmonte', 'iquique', 'saskylakh', 'yuncheng', 'rocha', 'belaya gora', 'sao filipe', 'bud', 'kuusamo', 'broome', 'newark', 'nizhneyansk', 'kahului', 'windhoek', 'grand centre', 'arlit', 'paita', 'upernavik', 'noumea', 'qaanaaq', 'souillac', 'athabasca', 'puerto ayora', 'south valley', 'vestmannaeyjar', 'alyangula', 'pacific grove', 'georgetown', 'lorengau', 'pucallpa', 'vorontsovka', 'wanning', 'saint anthony', 'kaeo', 'bengkulu', 'galiakot', 'sembe', 'domoni', 'kapaa', 'bafia', 'the valley', 'tiksi', 'goderich', 'ilulissat', 'calvia', 'deputatskiy', 'ust-kamchatsk', 'saint george', 'klaksvik', 'san miguel', 'dingle', 'alanya', 'zaplyusye', 'baoshan', 'diffa', 'lamar', 'rosario', 'marsa matruh', 'fort nelson', 'namatanai', 'tuktoyaktuk', 'walvis bay', 'eenhana', 'warrnambool', 'san juan de colon', 'bayji', 'davila', 'tiznit', 'aksarka', 'pangnirtung', 'aykhal', 'khatanga', 'tyrma', 'tura', 'aitape', 'port elizabeth', 'galchino', 'vestmanna', 'bonthe', 'vaitupu', 'tigil', 'nome', 'plettenberg bay', 'gumdag', 'shelburne', 'airai', 'huarmey', 'karratha', 'abrau-dyurso', 'waterloo', 'husavik', 'yumen', 'penzance', 'talalayivka', 'parczew', 'tual', 'paradwip', 'maragogi', 'formosa', 'korla', 'prado', 'djibo', 'sayanskiy', 'leningradskiy', 'qui nhon', 'rungata', 'tarnogskiy gorodok', 'lyubeshiv', 'vitoria da conquista', 'mahebourg', 'saleaula', 'vila velha', 'havelock', 'esperance', 'tasiilaq', 'camacha', 'nantucket', 'gornopravdinsk', 'tautira', 'shingu', 'kaseda', 'vanavara', 'olafsvik', 'sao jose da coroa grande', 'pokhara', 'sambava', 'constitucion', 'sydney mines', 'bumba', 'bikaner', 'yar-sale', 'aklavik', 'nchelenge', 'mathathane', 'stykkisholmur', 'solt', 'ketchikan', 'marawi', 'ossora', 'yellowknife', 'chilca', 'halifax', 'comodoro rivadavia', 'tecoanapa', 'cabedelo', 'venustiano carranza', 'progreso', 'norilsk', 'umzimvubu', 'valparaiso', 'yichang', 'urucara', 'turukhansk', 'pisco', 'provideniya', 'coquimbo', 'jalu', 'atambua', 'menongue', 'cananeia', 'katsuura', 'saldanha', 'tabiauea', 'los llanos de aridane', 'rioblanco', 'argelia', 'ponta do sol', 'kathmandu', 'poum', 'flinders', 'mount isa', 'gamba', 'luderitz', 'rottenmann', 'tagbac', 'bairiki', 'santa maria do suacui', 'amahai', 'sorland', 'uttaradit', 'almunecar', 'itaituba', 'severo-kurilsk', 'vieques', 'abu dhabi', 'san rafael del sur', 'abdulino', 'kargasok', 'gaya', 'salym', 'kiruna', 'kijang', 'bagn', 'port macquarie', 'la ronge', 'karaul', 'mayo', 'cheremukhovo', 'ahipara', 'tabriz', 'tatarskaya pishlya', 'turbat', 'sexsmith', 'kolondieba', 'clarence town', 'castro', 'kenai', 'tecolutla', 'grand river south east', 'vao', 'altay', 'coihaique', 'nelson bay', 'carutapera', 'ahuimanu', 'vostok', 'lao cai', 'slave lake', 'axim', 'antalaha', 'kirtipur', 'parkes', 'chernolesskoye', 'litovko', 'kalabo', 'cam ranh', 'baykit', 'marystown', 'kruisfontein', 'usinsk', 'scarborough', 'oranjestad', 'brae', 'san carlos de bariloche', 'toliary', 'darhan', 'chokurdakh', 'kosa', 'ingleside', 'quatre cocos', 'hambantota', 'nueva guinea', 'oxelosund', 'kloulklubed', 'bambous virieux', 'anjar', 'henties bay', 'maniitsoq', 'sikasso', 'gushikawa', 'la fria', 'meyungs', 'lompoc', 'launceston', 'muros', 'bubaque', 'khonuu', 'marcona', 'dunn', 'tuatapere', 'ramnagar', 'richmond', 'kazminskoye', 'vigeland', 'sisimiut', 'pedernales', 'norman wells', 'ilhabela', 'fare', 'caiaponia', 'banyo', 'amazar', 'coxim', 'eyl', 'dongning', 'bonfim', 'grand-lahou', 'east london', 'jati', 'bathsheba', 'qeshm', 'krasnyy chikoy', 'ancud', 'mokhsogollokh', 'moshkovo', 'mys shmidta', 'kyzyl-suu', 'buraydah', 'waipawa', 'nara', 'bourail', 'fort dodge', 'labuhan', 'falealupo', 'atar', 'gizo', 'nanning', 'yomou', 'boa vista', 'macklin', 'sao joao da barra', 'roma', 'tomaszow mazowiecki', 'sabha', 'belushya guba', 'megion', 'itajuba', 'reconquista', 'sinnamary', 'samarai', 'tsihombe', 'ormara', 'las vegas', 'tiruvannamalai', 'cidreira', 'tapiramuta', 'andros', 'kyshtovka', 'cody', 'bonavista', 'san policarpo', 'encruzilhada do sul', 'abu kamal', 'sorvag', 'dongying', 'puerto madero', 'khonsa', 'manta', 'sioux lookout', 'hamina', 'urumqi', 'santiago', 'naliya', 'cagayan de tawi-tawi', 'chagda', 'teya', 'betsiamites', 'haines junction', 'voka', 'bandarbeyla', 'abha', 'evensk', 'carberry', 'keti bandar', 'sitka', 'simao', 'chake chake', 'skibbereen', 'mandalgovi', 'balikpapan', 'merauke', 'palmer', 'general roca', 'senec', 'oranjemund', 'quelimane', 'cockburn town', 'dombarovskiy', 'longyearbyen', 'matay', 'san patricio', 'presidente medici', 'shu', 'saint-georges', 'swellendam', 'lulea', 'bereda', 'marzuq', 'volokonovka', 'chumikan', 'margate', 'puerto cabello', 'meulaboh', 'ixtapa', 'salinopolis', 'wewak', 'whyalla', 'tra vinh', 'moree', 'artyk', 'sola', 'weligama', 'daultala', 'riohacha', 'matara', 'baracoa', 'simpang', 'berlevag', 'bilma', 'letlhakane', 'palana', 'palmdale', 'ostersund', 'maceio', 'storforshei', 'belle fourche', 'sur', 'omsukchan', 'port hardy', 'ocean city', 'tawkar', 'umea', 'lephepe', 'ulaangom', 'eskasem', 'agadez', 'yerbogachen', 'bunia', 'meiktila', 'khorixas', 'agirish', 'guajara-mirim', 'mecca', 'guelavia', 'iranshahr', 'luang prabang', 'san juan', 'placido de castro', 'bargal', 'arica', 'puerto ayacucho', 'goma', 'berezovyy', 'ntcheu', 'flin flon', 'port blair', 'luan', 'auki', 'concepcion', 'bilibino', 'hamilton', 'wolbrom', 'ostrovnoy', 'novikovo', 'lima', 'college', 'ningan', 'saint-cyr-sur-loire', 'nha trang', 'coahuayana', 'knysna', 'gusau', 'awbari', 'kirakira', 'nuuk', 'inuvik', 'yantzaza', 'morondava', 'sakakah', 'mrirt', 'razole', 'llanes', 'kytlym', 'mantua', 'najran', 'seoul', 'mayma', 'jining', 'benicarlo', 'jieznas', 'saint-augustin', 'lavrentiya', 'bekhtery', 'kencong', 'albemarle', 'manono', 'jiehu', 'aksha', 'grua', 'camden', 'petropavlovsk-kamchatskiy', 'saint-pierre', 'gamboma', 'gao', 'asau', 'dolores', 'palabuhanratu', 'gat', 'alofi', 'isangel', 'kangaatsiaq', 'aflu', 'viedma', 'andenes', 'kendari', 'dunedin', 'road town', 'erice', 'bela', 'basco', 'hannibal', 'hare bay', 'kovdor', 'sept-iles', 'miyako', 'kinna', 'sentyabrskiy', 'akureyri', 'safranbolu', 'charters towers', 'udachnyy', 'madingou', 'negara', 'ayr', 'tilichiki', 'suzhou']\n"
     ]
    }
   ],
   "source": [
    "# List for holding lat_lngs and cities\n",
    "lat_lngs = []\n",
    "cities = []\n",
    "\n",
    "# Create a set of random lat and lng combinations\n",
    "lats = np.random.uniform(lat_range[0], lat_range[1], size=1500)\n",
    "lngs = np.random.uniform(lng_range[0], lng_range[1], size=1500)\n",
    "lat_lngs = zip(lats, lngs)\n",
    "\n",
    "# Identify nearest city for each lat, lng combination\n",
    "for lat_lng in lat_lngs:\n",
    "    city = citipy.nearest_city(lat_lng[0], lat_lng[1]).city_name\n",
    "    \n",
    "    # If the city is unique, then add it to a our cities list\n",
    "    if city not in cities:\n",
    "        cities.append(city)\n",
    "\n",
    "# Print the city count to confirm sufficient count\n",
    "print(len(cities)"
   ]
  },
  {
   "cell_type": "markdown",
   "metadata": {},
   "source": [
    "### Perform API Calls\n",
    "* Perform a weather check on each city using a series of successive API calls.\n",
    "* Include a print log of each city as it'sbeing processed (with the city number and city name).\n"
   ]
  },
  {
   "cell_type": "code",
   "execution_count": 3,
   "metadata": {
    "scrolled": true
   },
   "outputs": [
    {
     "name": "stdout",
     "output_type": "stream",
     "text": [
      "{\n",
      "    \"base\": \"stations\",\n",
      "    \"clouds\": {\n",
      "        \"all\": 8\n",
      "    },\n",
      "    \"cod\": 200,\n",
      "    \"coord\": {\n",
      "        \"lat\": 42.6001,\n",
      "        \"lon\": -73.9662\n",
      "    },\n",
      "    \"dt\": 1659014720,\n",
      "    \"id\": 5106841,\n",
      "    \"main\": {\n",
      "        \"feels_like\": 24.45,\n",
      "        \"humidity\": 72,\n",
      "        \"pressure\": 1007,\n",
      "        \"temp\": 24.1,\n",
      "        \"temp_max\": 25.33,\n",
      "        \"temp_min\": 23.23\n",
      "    },\n",
      "    \"name\": \"Albany\",\n",
      "    \"sys\": {\n",
      "        \"country\": \"US\",\n",
      "        \"id\": 19530,\n",
      "        \"sunrise\": 1659001415,\n",
      "        \"sunset\": 1659054054,\n",
      "        \"type\": 2\n",
      "    },\n",
      "    \"timezone\": -14400,\n",
      "    \"visibility\": 10000,\n",
      "    \"weather\": [\n",
      "        {\n",
      "            \"description\": \"clear sky\",\n",
      "            \"icon\": \"01d\",\n",
      "            \"id\": 800,\n",
      "            \"main\": \"Clear\"\n",
      "        }\n",
      "    ],\n",
      "    \"wind\": {\n",
      "        \"deg\": 167,\n",
      "        \"gust\": 1.59,\n",
      "        \"speed\": 1.05\n",
      "    }\n",
      "}\n"
     ]
    }
   ],
   "source": [
    "# Building API Calls\n",
    "\n",
    "base_url = \"https://api.openweathermap.org/data/2.5/weather?\"\n",
    "units = \"metric\"\n",
    "query_url = f\"{base_url}appid={weather_api_key}&units={units}&q={city}\"\n",
    "\n",
    "# Building a Dictionary to store data\n",
    "city_weather = {\"City\": [],\n",
    "             \"Lat\": [],\n",
    "             \"Lng\": [],\n",
    "             \"Max Temp\": [],\n",
    "             \"Humidity\": [],\n",
    "             \"Cloudiness\": [],\n",
    "             \"Wind Speed\": [],\n",
    "             \"Country\": [],\n",
    "             \"Date\": []}\n",
    "\n",
    "\n",
    "# Params Dictionary\n",
    "params = {\n",
    "    \"api_key\":weather_api_key,\n",
    "    \"units\":units,\n",
    "    \"city\":city}\n",
    "    \n",
    "\n",
    "# Getting Weather Data\n",
    "response = requests.get(query_url).json()\n",
    "\n",
    "# print(response)\n",
    "print(json.dumps(response, indent=4, sort_keys=True))"
   ]
  },
  {
   "cell_type": "code",
   "execution_count": 4,
   "metadata": {},
   "outputs": [
    {
     "name": "stdout",
     "output_type": "stream",
     "text": [
      "----------------------------- Beginning Data Retrieval  -----------------------------\n",
      "Processing Weather Data for Faanui\n",
      "Processing Weather Data for Øksfjord\n",
      "Processing Weather Data for Padang\n",
      "Processing Weather Data for Nikolskoye\n",
      "Processing Weather Data for Vaini\n",
      "Processing Weather Data for Lagoa\n",
      "Processing Weather Data for Ngunguru\n",
      "Processing Weather Data for Barrow\n",
      "Processing Weather Data for Ati\n",
      "ijaki not found, on to the next one!\n",
      "Processing Weather Data for Albany\n",
      "Processing Weather Data for Ushuaia\n",
      "Processing Weather Data for Afuá\n",
      "Processing Weather Data for Yulara\n",
      "Processing Weather Data for Rikitea\n",
      "Processing Weather Data for Gladstone\n",
      "Processing Weather Data for Hobart\n",
      "Processing Weather Data for Ribeira Grande\n",
      "Processing Weather Data for Óbidos\n",
      "Processing Weather Data for Mar del Plata\n",
      "Processing Weather Data for Bluff\n",
      "Processing Weather Data for Vila Franca do Campo\n",
      "Processing Weather Data for Majholi\n",
      "linchuan not found, on to the next one!\n",
      "samusu not found, on to the next one!\n",
      "Processing Weather Data for Pontianak\n",
      "Processing Weather Data for Buala\n",
      "Processing Weather Data for Port Alfred\n",
      "Processing Weather Data for Hithadhoo\n",
      "Processing Weather Data for Thompson\n",
      "barentsburg not found, on to the next one!\n",
      "Processing Weather Data for Solnechnyy\n",
      "Processing Weather Data for Ust'-Koksa\n",
      "Processing Weather Data for Arraial do Cabo\n",
      "Processing Weather Data for Touros\n",
      "Processing Weather Data for Hermanus\n",
      "Processing Weather Data for Muravlenko\n",
      "Processing Weather Data for Cabo San Lucas\n",
      "Processing Weather Data for Lockhart\n",
      "Processing Weather Data for Hofn\n",
      "Processing Weather Data for Saint-Philippe\n",
      "Processing Weather Data for Geraldton\n",
      "attawapiskat not found, on to the next one!\n",
      "amderma not found, on to the next one!\n",
      "Processing Weather Data for Clyde River\n",
      "illoqqortoormiut not found, on to the next one!\n",
      "Processing Weather Data for Portland\n",
      "Processing Weather Data for Busselton\n",
      "Processing Weather Data for Dikson\n",
      "Processing Weather Data for Kaitangata\n",
      "Processing Weather Data for Nanortalik\n",
      "Processing Weather Data for Laas\n",
      "Processing Weather Data for Zabul Province\n",
      "Processing Weather Data for Punta Arenas\n",
      "Processing Weather Data for Torbay\n",
      "Processing Weather Data for Butaritari\n",
      "Processing Weather Data for Nizwá\n",
      "Processing Weather Data for Salalah\n",
      "Processing Weather Data for Carnarvon\n",
      "Processing Weather Data for New Norfolk\n",
      "Processing Weather Data for San Cristobal\n",
      "taolanaro not found, on to the next one!\n",
      "temaraia not found, on to the next one!\n",
      "Processing Weather Data for Iqaluit\n",
      "Processing Weather Data for Te Anau\n",
      "Processing Weather Data for Garissa\n",
      "Processing Weather Data for Mataura\n",
      "Processing Weather Data for Cape Town\n",
      "Processing Weather Data for Kaminokawa\n",
      "Processing Weather Data for La Puebla de Cazalla\n",
      "Processing Weather Data for Acapulco de Juárez\n",
      "Processing Weather Data for Talnakh\n",
      "Processing Weather Data for Hilo\n",
      "Processing Weather Data for Atuona\n",
      "Processing Weather Data for Bethel\n",
      "Processing Weather Data for Jamestown\n",
      "Processing Weather Data for Biak\n",
      "Processing Weather Data for Bredasdorp\n",
      "Processing Weather Data for Terre Haute\n",
      "Processing Weather Data for Calmar\n",
      "Processing Weather Data for Corowa\n",
      "Processing Weather Data for Narsaq\n",
      "Processing Weather Data for Cherskiy\n",
      "Processing Weather Data for Río Gallegos\n",
      "Processing Weather Data for Mossamedes\n",
      "Processing Weather Data for Sofia\n",
      "Processing Weather Data for Humenné\n",
      "Processing Weather Data for Mansfield\n",
      "Processing Weather Data for Keşan\n",
      "Processing Weather Data for Saint Paul Harbor\n",
      "Processing Weather Data for Avarua\n",
      "Processing Weather Data for Lebu\n",
      "Processing Weather Data for Port Lincoln\n",
      "Processing Weather Data for Havre-St-Pierre\n",
      "Processing Weather Data for Kavieng\n",
      "Processing Weather Data for Chui\n",
      "Processing Weather Data for Port-Gentil\n",
      "Processing Weather Data for Pevek\n",
      "Processing Weather Data for Hong Kong\n",
      "Processing Weather Data for Porto-Novo\n",
      "Processing Weather Data for Morant Bay\n",
      "azimur not found, on to the next one!\n",
      "Processing Weather Data for Belmonte\n",
      "Processing Weather Data for Iquique\n",
      "Processing Weather Data for Saskylakh\n",
      "Processing Weather Data for Yuncheng\n",
      "Processing Weather Data for Rocha\n",
      "Processing Weather Data for Belaya Gora\n",
      "Processing Weather Data for São Filipe\n",
      "Processing Weather Data for Bud\n",
      "Processing Weather Data for Kuusamo\n",
      "Processing Weather Data for Broome\n",
      "Processing Weather Data for Newark\n",
      "nizhneyansk not found, on to the next one!\n",
      "Processing Weather Data for Kahului\n",
      "Processing Weather Data for Windhoek\n",
      "grand centre not found, on to the next one!\n",
      "Processing Weather Data for Arlit\n",
      "Processing Weather Data for Paita\n",
      "Processing Weather Data for Upernavik\n",
      "Processing Weather Data for Noumea\n",
      "Processing Weather Data for Qaanaaq\n",
      "Processing Weather Data for Souillac\n",
      "Processing Weather Data for Athabasca\n",
      "Processing Weather Data for Puerto Ayora\n",
      "Processing Weather Data for South Valley\n",
      "Processing Weather Data for Vestmannaeyjar\n",
      "Processing Weather Data for Alyangula\n",
      "Processing Weather Data for Pacific Grove\n",
      "Processing Weather Data for George Town\n",
      "Processing Weather Data for Lorengau\n",
      "Processing Weather Data for Pucallpa\n",
      "Processing Weather Data for Vorontsovka\n",
      "Processing Weather Data for Wanning\n",
      "Processing Weather Data for Saint Anthony\n",
      "Processing Weather Data for Kaeo\n",
      "Processing Weather Data for Bengkulu\n",
      "Processing Weather Data for Galiākot\n",
      "Processing Weather Data for Sémbé\n",
      "Processing Weather Data for Domoni\n",
      "Processing Weather Data for Kapaa\n",
      "Processing Weather Data for Bafia\n",
      "Processing Weather Data for The Valley\n",
      "Processing Weather Data for Tiksi\n",
      "Processing Weather Data for Goderich\n",
      "Processing Weather Data for Ilulissat\n",
      "Processing Weather Data for Calvià\n",
      "Processing Weather Data for Deputatsky\n",
      "ust-kamchatsk not found, on to the next one!\n",
      "Processing Weather Data for Saint George\n",
      "Processing Weather Data for Klaksvík\n",
      "Processing Weather Data for San Miguel\n",
      "Processing Weather Data for Dingle\n",
      "Processing Weather Data for Alanya\n",
      "zaplyusye not found, on to the next one!\n",
      "Processing Weather Data for Baoshan\n",
      "Processing Weather Data for Diffa\n",
      "Processing Weather Data for Lamar\n",
      "Processing Weather Data for Rosario\n",
      "Processing Weather Data for Marsá Maţrūḩ\n",
      "Processing Weather Data for Fort Nelson\n",
      "Processing Weather Data for Namatanai\n",
      "Processing Weather Data for Tuktoyaktuk\n",
      "Processing Weather Data for Walvis Bay\n",
      "Processing Weather Data for Eenhana\n",
      "Processing Weather Data for Warrnambool\n",
      "Processing Weather Data for Colon\n",
      "Processing Weather Data for Bayjī\n",
      "Processing Weather Data for Davila\n",
      "Processing Weather Data for Tiznit Province\n",
      "Processing Weather Data for Aksarka\n",
      "Processing Weather Data for Pangnirtung\n",
      "Processing Weather Data for Aykhal\n",
      "Processing Weather Data for Khatanga\n",
      "Processing Weather Data for Tyrma\n",
      "Processing Weather Data for Tura\n",
      "Processing Weather Data for Aitape\n",
      "Processing Weather Data for Port Elizabeth\n",
      "galchino not found, on to the next one!\n",
      "Processing Weather Data for Vestmanna\n",
      "Processing Weather Data for Bonthe\n",
      "vaitupu not found, on to the next one!\n",
      "Processing Weather Data for Tigil'\n",
      "Processing Weather Data for Nome\n",
      "Processing Weather Data for Plettenberg Bay\n",
      "Processing Weather Data for Gumdag\n",
      "Processing Weather Data for Shelburne\n",
      "Processing Weather Data for Airai\n",
      "Processing Weather Data for Huarmey\n",
      "Processing Weather Data for Karratha\n",
      "Processing Weather Data for Abrau-Dyurso\n",
      "Processing Weather Data for Waterloo\n",
      "Processing Weather Data for Husavik\n",
      "Processing Weather Data for Yumen\n",
      "Processing Weather Data for Penzance\n",
      "Processing Weather Data for Talalayivka\n",
      "Processing Weather Data for Parczew\n",
      "Processing Weather Data for Tual\n",
      "paradwip not found, on to the next one!\n",
      "Processing Weather Data for Maragogi\n",
      "Processing Weather Data for Formosa\n",
      "Processing Weather Data for Korla\n",
      "Processing Weather Data for Prado\n",
      "Processing Weather Data for Djibo\n",
      "sayanskiy not found, on to the next one!\n",
      "Processing Weather Data for Leningradskiy\n",
      "Processing Weather Data for Qui Nhon\n",
      "rungata not found, on to the next one!\n",
      "Processing Weather Data for Tarnogskiy Gorodok\n",
      "lyubeshiv not found, on to the next one!\n",
      "Processing Weather Data for Vitória da Conquista\n",
      "Processing Weather Data for Mahébourg\n",
      "saleaula not found, on to the next one!\n",
      "Processing Weather Data for Vila Velha\n",
      "Processing Weather Data for Havelock\n",
      "Processing Weather Data for Esperance\n",
      "Processing Weather Data for Tasiilaq\n",
      "Processing Weather Data for Camacha\n",
      "Processing Weather Data for Nantucket\n",
      "Processing Weather Data for Gornopravdinsk\n",
      "Processing Weather Data for Tautira\n",
      "Processing Weather Data for Shingū\n",
      "Processing Weather Data for Kaseda-shirakame\n",
      "Processing Weather Data for Vanavara\n",
      "Processing Weather Data for Olafsvik\n",
      "Processing Weather Data for São José da Coroa Grande\n",
      "Processing Weather Data for Pokhara\n",
      "Processing Weather Data for Sambava\n",
      "Processing Weather Data for Constitución\n",
      "Processing Weather Data for Sydney Mines\n",
      "Processing Weather Data for Bumba\n",
      "Processing Weather Data for Bikaner\n",
      "Processing Weather Data for Yar-Sale\n",
      "Processing Weather Data for Aklavik\n",
      "Processing Weather Data for Nchelenge\n",
      "Processing Weather Data for Mathathane\n",
      "Processing Weather Data for Stykkisholmur\n",
      "Processing Weather Data for Solt\n",
      "Processing Weather Data for Ketchikan\n",
      "Processing Weather Data for Marawi\n",
      "Processing Weather Data for Ossora\n",
      "Processing Weather Data for Yellowknife\n",
      "Processing Weather Data for Chilca\n",
      "Processing Weather Data for Halifax\n",
      "Processing Weather Data for Comodoro Rivadavia\n",
      "Processing Weather Data for Barra de Tecoanapa\n",
      "Processing Weather Data for Cabedelo\n",
      "Processing Weather Data for Venustiano Carranza\n",
      "Processing Weather Data for Progreso\n",
      "Processing Weather Data for Noril'sk\n",
      "umzimvubu not found, on to the next one!\n",
      "Processing Weather Data for Valparaíso\n",
      "Processing Weather Data for Yichang\n",
      "Processing Weather Data for Urucará\n",
      "Processing Weather Data for Turukhansk\n",
      "Processing Weather Data for Pisco\n",
      "Processing Weather Data for Provideniya\n",
      "Processing Weather Data for Coquimbo\n",
      "Processing Weather Data for Jalu\n",
      "Processing Weather Data for Atambua\n",
      "Processing Weather Data for Menongue\n",
      "Processing Weather Data for Cananéia\n",
      "Processing Weather Data for Katsuura\n",
      "Processing Weather Data for Saldanha\n",
      "tabiauea not found, on to the next one!\n",
      "Processing Weather Data for Los Llanos de Aridane\n",
      "Processing Weather Data for Rioblanco\n",
      "Processing Weather Data for Argelia\n",
      "Processing Weather Data for Ponta do Sol\n",
      "Processing Weather Data for Kathmandu\n",
      "Processing Weather Data for Poum\n",
      "Processing Weather Data for Flinders\n",
      "Processing Weather Data for Mount Isa\n",
      "Processing Weather Data for Gamba\n",
      "Processing Weather Data for Lüderitz\n",
      "Processing Weather Data for Rottenmann\n",
      "Processing Weather Data for Tagbac\n",
      "Processing Weather Data for Bairiki Village\n",
      "Processing Weather Data for Santa Maria do Suaçuí\n",
      "Processing Weather Data for Amahai\n",
      "Processing Weather Data for Sørland\n",
      "Processing Weather Data for Uttaradit\n",
      "Processing Weather Data for Almuñécar\n",
      "Processing Weather Data for Itaituba\n",
      "Processing Weather Data for Severo-Kuril'sk\n",
      "Processing Weather Data for Vieques\n",
      "Processing Weather Data for Abu Dhabi\n",
      "Processing Weather Data for San Rafael del Sur\n",
      "Processing Weather Data for Abdulino\n",
      "Processing Weather Data for Kargasok\n",
      "Processing Weather Data for Gaya\n",
      "Processing Weather Data for Salym\n",
      "Processing Weather Data for Kiruna\n",
      "Processing Weather Data for Gijang\n",
      "Processing Weather Data for Bagn\n",
      "Processing Weather Data for Port Macquarie\n",
      "Processing Weather Data for La Ronge\n",
      "karaul not found, on to the next one!\n",
      "Processing Weather Data for Mayo\n",
      "Processing Weather Data for Cherëmukhovo\n",
      "Processing Weather Data for Ahipara\n",
      "Processing Weather Data for Tabriz\n",
      "Processing Weather Data for Tatarskaya Pishlya\n",
      "Processing Weather Data for Turbat\n",
      "Processing Weather Data for Sexsmith\n",
      "Processing Weather Data for Kolondiéba\n",
      "Processing Weather Data for Clarence Town\n",
      "Processing Weather Data for Castro\n",
      "Processing Weather Data for Kenai\n",
      "Processing Weather Data for Tecolutla\n",
      "grand river south east not found, on to the next one!\n",
      "Processing Weather Data for Vao\n",
      "Processing Weather Data for Altay\n",
      "Processing Weather Data for Coyhaique\n",
      "Processing Weather Data for Nelson Bay\n",
      "Processing Weather Data for Carutapera\n",
      "Processing Weather Data for ‘Āhuimanu\n",
      "Processing Weather Data for Vostok\n",
      "Processing Weather Data for Lao Cai\n",
      "Processing Weather Data for Slave Lake\n",
      "Processing Weather Data for Esim\n",
      "Processing Weather Data for Antalaha\n",
      "Processing Weather Data for Kirtipur\n",
      "Processing Weather Data for Parkes\n",
      "Processing Weather Data for Chernolesskoye\n",
      "Processing Weather Data for Litovko\n",
      "Processing Weather Data for Kalabo\n",
      "Processing Weather Data for Cam Ranh\n",
      "Processing Weather Data for Baykit\n",
      "Processing Weather Data for Marystown\n",
      "Processing Weather Data for Kruisfontein\n",
      "Processing Weather Data for Usinsk\n",
      "Processing Weather Data for Scarborough\n",
      "Processing Weather Data for Oranjestad\n",
      "Processing Weather Data for Brae\n",
      "Processing Weather Data for Bariloche\n",
      "toliary not found, on to the next one!\n",
      "Processing Weather Data for Darhan\n",
      "Processing Weather Data for Chokurdakh\n",
      "Processing Weather Data for Kosa\n",
      "Processing Weather Data for Ingleside\n",
      "Processing Weather Data for Quatre Cocos\n",
      "Processing Weather Data for Hambantota\n",
      "Processing Weather Data for Nueva Guinea\n",
      "Processing Weather Data for Oxelösund\n",
      "Processing Weather Data for Kloulklubed\n",
      "Processing Weather Data for Bambous Virieux\n",
      "Processing Weather Data for Anjār\n",
      "Processing Weather Data for Henties Bay\n",
      "Processing Weather Data for Maniitsoq\n",
      "Processing Weather Data for Sikasso\n",
      "Processing Weather Data for Gushikawa\n",
      "Processing Weather Data for La Fria\n",
      "meyungs not found, on to the next one!\n",
      "Processing Weather Data for Lompoc\n",
      "Processing Weather Data for Launceston\n",
      "Processing Weather Data for Muros\n",
      "Processing Weather Data for Bubaque\n",
      "khonuu not found, on to the next one!\n",
      "marcona not found, on to the next one!\n",
      "Processing Weather Data for Dunn\n",
      "Processing Weather Data for Tuatapere\n",
      "Processing Weather Data for Ramnagar\n",
      "Processing Weather Data for Richmond\n",
      "kazminskoye not found, on to the next one!\n",
      "Processing Weather Data for Vigeland\n",
      "Processing Weather Data for Sisimiut\n",
      "Processing Weather Data for Pedernales\n",
      "Processing Weather Data for Norman Wells\n",
      "Processing Weather Data for Ilhabela\n",
      "Processing Weather Data for Fare\n",
      "Processing Weather Data for Caiapônia\n",
      "Processing Weather Data for Banyo\n",
      "Processing Weather Data for Amazar\n",
      "Processing Weather Data for Coxim\n",
      "Processing Weather Data for Eyl\n",
      "Processing Weather Data for Dongning\n",
      "Processing Weather Data for Bonfim\n",
      "Processing Weather Data for Grand-Lahou\n",
      "Processing Weather Data for East London\n",
      "Processing Weather Data for Jati\n",
      "Processing Weather Data for Bathsheba\n",
      "Processing Weather Data for Qeshm\n",
      "Processing Weather Data for Krasnyy Chikoy\n",
      "Processing Weather Data for Ancud\n",
      "Processing Weather Data for Mokhsogollokh\n",
      "Processing Weather Data for Moshkovo\n",
      "mys shmidta not found, on to the next one!\n",
      "Processing Weather Data for Kyzyl-Suu\n",
      "Processing Weather Data for Buraidah\n",
      "Processing Weather Data for Waipawa\n",
      "Processing Weather Data for Nara\n",
      "Processing Weather Data for Bourail\n",
      "Processing Weather Data for Fort Dodge\n",
      "Processing Weather Data for Labuhan\n",
      "falealupo not found, on to the next one!\n",
      "Processing Weather Data for Atar\n",
      "Processing Weather Data for Gizo Government Station\n",
      "Processing Weather Data for Nanning\n",
      "Processing Weather Data for Yomou\n",
      "Processing Weather Data for Boa Vista\n",
      "Processing Weather Data for Macklin\n",
      "Processing Weather Data for São João da Barra\n",
      "Processing Weather Data for Rome\n",
      "Processing Weather Data for Tomaszów Mazowiecki\n",
      "Processing Weather Data for Sabha\n",
      "belushya guba not found, on to the next one!\n",
      "Processing Weather Data for Megion\n",
      "Processing Weather Data for Itajubá\n",
      "Processing Weather Data for Reconquista\n",
      "Processing Weather Data for Sinnamary\n",
      "Processing Weather Data for Samarai\n",
      "tsihombe not found, on to the next one!\n",
      "Processing Weather Data for Ormara\n",
      "Processing Weather Data for Las Vegas\n",
      "Processing Weather Data for Tiruvannamalai\n",
      "Processing Weather Data for Cidreira\n",
      "Processing Weather Data for Tapiramutá\n",
      "Processing Weather Data for Andros\n",
      "Processing Weather Data for Kyshtovka\n",
      "Processing Weather Data for Cody\n",
      "Processing Weather Data for Bonavista\n",
      "Processing Weather Data for San Policarpo\n",
      "Processing Weather Data for Encruzilhada do Sul\n",
      "Processing Weather Data for Abu Kamal\n",
      "sorvag not found, on to the next one!\n",
      "Processing Weather Data for Dongying\n",
      "Processing Weather Data for Puerto Madero\n",
      "Processing Weather Data for Khonsa\n",
      "Processing Weather Data for Manta\n",
      "Processing Weather Data for Sioux Lookout\n",
      "Processing Weather Data for Hamina\n",
      "Processing Weather Data for Ürümqi\n",
      "Processing Weather Data for Santiago\n",
      "Processing Weather Data for Naliya\n",
      "cagayan de tawi-tawi not found, on to the next one!\n",
      "chagda not found, on to the next one!\n",
      "Processing Weather Data for Teya\n",
      "Processing Weather Data for Betsiamites\n",
      "Processing Weather Data for Haines Junction\n",
      "Processing Weather Data for Voka\n",
      "Processing Weather Data for Bandarbeyla\n",
      "Processing Weather Data for Abhā\n",
      "Processing Weather Data for Evensk\n",
      "Processing Weather Data for Carberry\n",
      "Processing Weather Data for Keti Bandar\n",
      "Processing Weather Data for Sitka\n",
      "Processing Weather Data for Simao\n",
      "Processing Weather Data for Chake Chake\n",
      "Processing Weather Data for Skibbereen\n",
      "Processing Weather Data for Mandalgovi\n",
      "Processing Weather Data for Balikpapan\n",
      "Processing Weather Data for Merauke\n",
      "Processing Weather Data for Palmer\n",
      "Processing Weather Data for General Roca\n",
      "Processing Weather Data for Senec\n",
      "Processing Weather Data for Oranjemund\n",
      "Processing Weather Data for Quelimane\n",
      "Processing Weather Data for Cockburn Town\n",
      "Processing Weather Data for Dombarovskiy\n",
      "Processing Weather Data for Longyearbyen\n",
      "Processing Weather Data for Maţāy\n",
      "Processing Weather Data for San Patricio\n",
      "Processing Weather Data for Presidente Médici\n",
      "Processing Weather Data for Chu\n",
      "Processing Weather Data for St. George's\n",
      "Processing Weather Data for Swellendam\n",
      "Processing Weather Data for Luleå\n",
      "Processing Weather Data for Bereda\n",
      "Processing Weather Data for Marzuq\n",
      "Processing Weather Data for Volokonovka\n",
      "Processing Weather Data for Chumikan\n",
      "Processing Weather Data for Margate\n",
      "Processing Weather Data for Puerto Cabello\n",
      "Processing Weather Data for Meulaboh\n",
      "Processing Weather Data for Ixtapa\n",
      "Processing Weather Data for Salinópolis\n",
      "Processing Weather Data for Wewak\n",
      "Processing Weather Data for Whyalla\n",
      "Processing Weather Data for Tra Vinh\n",
      "Processing Weather Data for Moree\n",
      "artyk not found, on to the next one!\n",
      "Processing Weather Data for Sola\n",
      "Processing Weather Data for Weligama\n",
      "Processing Weather Data for Daultala\n",
      "Processing Weather Data for Riohacha\n",
      "Processing Weather Data for Matara\n",
      "Processing Weather Data for Baracoa\n",
      "Processing Weather Data for Simpang\n",
      "Processing Weather Data for Berlevåg\n",
      "Processing Weather Data for Bilma\n",
      "Processing Weather Data for Letlhakane\n",
      "Processing Weather Data for Palana\n",
      "Processing Weather Data for Palmdale\n",
      "Processing Weather Data for Östersund\n",
      "Processing Weather Data for Maceió\n",
      "Processing Weather Data for Storforshei\n",
      "Processing Weather Data for Belle Fourche\n",
      "Processing Weather Data for Sur\n",
      "Processing Weather Data for Omsukchan\n",
      "Processing Weather Data for Port Hardy\n",
      "Processing Weather Data for Ocean City\n",
      "tawkar not found, on to the next one!\n",
      "Processing Weather Data for Umeå\n",
      "lephepe not found, on to the next one!\n",
      "Processing Weather Data for Ulaangom\n",
      "eskasem not found, on to the next one!\n",
      "Processing Weather Data for Agadez\n",
      "Processing Weather Data for Yerbogachën\n",
      "Processing Weather Data for Bunia\n",
      "Processing Weather Data for Meiktila\n",
      "Processing Weather Data for Khorixas\n",
      "Processing Weather Data for Agirish\n",
      "guajara-mirim not found, on to the next one!\n",
      "Processing Weather Data for Makkah al Mukarramah\n",
      "guelavia not found, on to the next one!\n",
      "Processing Weather Data for Iranshahr\n",
      "Processing Weather Data for Luang Prabang\n",
      "Processing Weather Data for San Juan\n",
      "Processing Weather Data for Plácido de Castro\n",
      "bargal not found, on to the next one!\n",
      "Processing Weather Data for Arica\n",
      "Processing Weather Data for Puerto Ayacucho\n",
      "Processing Weather Data for Goma\n",
      "Processing Weather Data for Berezovyy\n",
      "Processing Weather Data for Ntcheu\n",
      "Processing Weather Data for Flin Flon\n",
      "Processing Weather Data for Port Blair\n",
      "Processing Weather Data for Luan\n",
      "Processing Weather Data for Auki\n",
      "Processing Weather Data for Concepción\n",
      "Processing Weather Data for Bilibino\n",
      "Processing Weather Data for Hamilton\n",
      "Processing Weather Data for Wolbrom\n",
      "Processing Weather Data for Ostrovnoy\n",
      "Processing Weather Data for Novikovo\n",
      "Processing Weather Data for Lima\n",
      "Processing Weather Data for College\n",
      "ningan not found, on to the next one!\n",
      "Processing Weather Data for Saint-Cyr-sur-Loire\n",
      "Processing Weather Data for Nha Trang\n",
      "Processing Weather Data for Coahuayana Viejo\n",
      "Processing Weather Data for Knysna\n",
      "Processing Weather Data for Gusau\n",
      "Processing Weather Data for Ubari\n",
      "Processing Weather Data for Kirakira\n",
      "Processing Weather Data for Nuuk\n",
      "Processing Weather Data for Inuvik\n",
      "Processing Weather Data for Yantzaza\n",
      "Processing Weather Data for Morondava\n",
      "Processing Weather Data for Sakakah\n",
      "mrirt not found, on to the next one!\n",
      "Processing Weather Data for Rāzole\n",
      "Processing Weather Data for Llanes\n",
      "kytlym not found, on to the next one!\n",
      "Processing Weather Data for Province of Mantua\n",
      "Processing Weather Data for Najrān\n",
      "Processing Weather Data for Seoul\n",
      "Processing Weather Data for Mayma\n",
      "Processing Weather Data for Jining\n",
      "Processing Weather Data for Benicarló\n",
      "Processing Weather Data for Jieznas\n",
      "Processing Weather Data for Saint-Augustin\n",
      "Processing Weather Data for Lavrentiya\n",
      "Processing Weather Data for Bekhtery\n",
      "Processing Weather Data for Kencong\n",
      "Processing Weather Data for Albemarle\n",
      "Processing Weather Data for Manono\n",
      "Processing Weather Data for Jiehu\n",
      "Processing Weather Data for Aksha\n",
      "Processing Weather Data for Grua\n",
      "Processing Weather Data for Camden\n",
      "Processing Weather Data for Petropavlovsk-Kamchatskiy\n",
      "Processing Weather Data for Saint-Pierre\n",
      "Processing Weather Data for Gamboma\n",
      "Processing Weather Data for Gao\n",
      "Processing Weather Data for Asău\n",
      "Processing Weather Data for Dolores\n",
      "palabuhanratu not found, on to the next one!\n",
      "Processing Weather Data for Kiryat Gat\n",
      "Processing Weather Data for Alofi\n",
      "Processing Weather Data for Isangel\n",
      "Processing Weather Data for Kangaatsiaq\n",
      "aflu not found, on to the next one!\n",
      "Processing Weather Data for Viedma\n",
      "Processing Weather Data for Andenes\n",
      "Processing Weather Data for Kendari\n",
      "Processing Weather Data for Dunedin\n",
      "Processing Weather Data for Road Town\n",
      "Processing Weather Data for Erice\n",
      "Processing Weather Data for Bela\n",
      "Processing Weather Data for Basco\n",
      "Processing Weather Data for Hannibal\n",
      "Processing Weather Data for Hare Bay\n",
      "Processing Weather Data for Kovdor\n",
      "Processing Weather Data for Sept-Îles\n",
      "Processing Weather Data for Miyako\n",
      "Processing Weather Data for Kinna\n",
      "sentyabrskiy not found, on to the next one!\n",
      "Processing Weather Data for Akureyri\n",
      "Processing Weather Data for Safranbolu\n",
      "Processing Weather Data for Charters Towers\n",
      "Processing Weather Data for Udachny\n",
      "Processing Weather Data for Madingou\n",
      "Processing Weather Data for Negara\n",
      "Processing Weather Data for Ayr\n",
      "Processing Weather Data for Tilichiki\n",
      "Processing Weather Data for Suzhou\n",
      "----------------------------- Data Retrieval Complete -----------------------------\n"
     ]
    }
   ],
   "source": [
    "print(\"----------------------------- Beginning Data Retrieval  -----------------------------\")\n",
    "MINUTE = 60\n",
    "@limits(calls=60, period=MINUTE)\n",
    "record_num = 1\n",
    "city_count = len(cities)\n",
    "\n",
    "def data_retrieval():\n",
    "    \n",
    "    # Looping through city list and then appendinig results into dictionary\n",
    "    for city in cities:\n",
    "        query_url = f\"{base_url}appid={weather_api_key}&units=Imperial&q={city}\"\n",
    "        response = requests.get(query_url).json()\n",
    "        \n",
    "        try:\n",
    "            print(f'Processing Weather Data for Record {record_num} of {city_count}: {response[\"name\"]}')\n",
    "        \n",
    "            city_weather[\"City\"].append(response[\"name\"])\n",
    "            city_weather[\"Lat\"].append(response[\"coord\"][\"lat\"])\n",
    "            city_weather[\"Lng\"].append(response[\"coord\"][\"lon\"])\n",
    "            city_weather[\"Max Temp\"].append(response[\"main\"][\"temp_max\"])\n",
    "            city_weather[\"Humidity\"].append(response[\"main\"][\"humidity\"])\n",
    "            city_weather[\"Cloudiness\"].append(response[\"clouds\"][\"all\"])\n",
    "            city_weather[\"Wind Speed\"].append(response[\"wind\"][\"speed\"])\n",
    "            city_weather[\"Country\"].append(response[\"sys\"][\"country\"])\n",
    "            city_weather[\"Date\"].append(response[\"dt\"])\n",
    "            record_num +=1 \n",
    "\n",
    "        except(KeyError, IndexError):\n",
    "            print(f\"{city} not found, on to the next one!\")\n",
    "        pass\n",
    "\n",
    "data_retrieval()\n",
    "print(\"----------------------------- Data Retrieval Complete -----------------------------\")"
   ]
  },
  {
   "cell_type": "markdown",
   "metadata": {},
   "source": [
    "### Convert Raw Data to DataFrame\n",
    "* Export the city data into a .csv.\n",
    "* Display the DataFrame"
   ]
  },
  {
   "cell_type": "code",
   "execution_count": 5,
   "metadata": {},
   "outputs": [
    {
     "data": {
      "text/html": [
       "<div>\n",
       "<style scoped>\n",
       "    .dataframe tbody tr th:only-of-type {\n",
       "        vertical-align: middle;\n",
       "    }\n",
       "\n",
       "    .dataframe tbody tr th {\n",
       "        vertical-align: top;\n",
       "    }\n",
       "\n",
       "    .dataframe thead th {\n",
       "        text-align: right;\n",
       "    }\n",
       "</style>\n",
       "<table border=\"1\" class=\"dataframe\">\n",
       "  <thead>\n",
       "    <tr style=\"text-align: right;\">\n",
       "      <th></th>\n",
       "      <th>City</th>\n",
       "      <th>Lat</th>\n",
       "      <th>Lng</th>\n",
       "      <th>Max Temp</th>\n",
       "      <th>Humidity</th>\n",
       "      <th>Cloudiness</th>\n",
       "      <th>Wind Speed</th>\n",
       "      <th>Country</th>\n",
       "      <th>Date</th>\n",
       "    </tr>\n",
       "  </thead>\n",
       "  <tbody>\n",
       "    <tr>\n",
       "      <th>0</th>\n",
       "      <td>Faanui</td>\n",
       "      <td>-16.4833</td>\n",
       "      <td>-151.7500</td>\n",
       "      <td>78.85</td>\n",
       "      <td>74</td>\n",
       "      <td>16</td>\n",
       "      <td>27.02</td>\n",
       "      <td>PF</td>\n",
       "      <td>1659015519</td>\n",
       "    </tr>\n",
       "    <tr>\n",
       "      <th>1</th>\n",
       "      <td>Øksfjord</td>\n",
       "      <td>70.2396</td>\n",
       "      <td>22.3479</td>\n",
       "      <td>55.47</td>\n",
       "      <td>83</td>\n",
       "      <td>96</td>\n",
       "      <td>8.25</td>\n",
       "      <td>NO</td>\n",
       "      <td>1659015519</td>\n",
       "    </tr>\n",
       "    <tr>\n",
       "      <th>2</th>\n",
       "      <td>Padang</td>\n",
       "      <td>-0.9492</td>\n",
       "      <td>100.3543</td>\n",
       "      <td>79.02</td>\n",
       "      <td>87</td>\n",
       "      <td>85</td>\n",
       "      <td>4.05</td>\n",
       "      <td>ID</td>\n",
       "      <td>1659015519</td>\n",
       "    </tr>\n",
       "    <tr>\n",
       "      <th>3</th>\n",
       "      <td>Nikolskoye</td>\n",
       "      <td>59.7035</td>\n",
       "      <td>30.7861</td>\n",
       "      <td>71.49</td>\n",
       "      <td>56</td>\n",
       "      <td>94</td>\n",
       "      <td>6.82</td>\n",
       "      <td>RU</td>\n",
       "      <td>1659015519</td>\n",
       "    </tr>\n",
       "    <tr>\n",
       "      <th>4</th>\n",
       "      <td>Vaini</td>\n",
       "      <td>-21.2000</td>\n",
       "      <td>-175.2000</td>\n",
       "      <td>73.56</td>\n",
       "      <td>94</td>\n",
       "      <td>75</td>\n",
       "      <td>5.75</td>\n",
       "      <td>TO</td>\n",
       "      <td>1659015520</td>\n",
       "    </tr>\n",
       "    <tr>\n",
       "      <th>...</th>\n",
       "      <td>...</td>\n",
       "      <td>...</td>\n",
       "      <td>...</td>\n",
       "      <td>...</td>\n",
       "      <td>...</td>\n",
       "      <td>...</td>\n",
       "      <td>...</td>\n",
       "      <td>...</td>\n",
       "      <td>...</td>\n",
       "    </tr>\n",
       "    <tr>\n",
       "      <th>553</th>\n",
       "      <td>Madingou</td>\n",
       "      <td>-4.1536</td>\n",
       "      <td>13.5500</td>\n",
       "      <td>89.10</td>\n",
       "      <td>36</td>\n",
       "      <td>67</td>\n",
       "      <td>6.17</td>\n",
       "      <td>CG</td>\n",
       "      <td>1659015672</td>\n",
       "    </tr>\n",
       "    <tr>\n",
       "      <th>554</th>\n",
       "      <td>Negara</td>\n",
       "      <td>-8.3151</td>\n",
       "      <td>114.6025</td>\n",
       "      <td>74.03</td>\n",
       "      <td>83</td>\n",
       "      <td>97</td>\n",
       "      <td>5.77</td>\n",
       "      <td>ID</td>\n",
       "      <td>1659015672</td>\n",
       "    </tr>\n",
       "    <tr>\n",
       "      <th>555</th>\n",
       "      <td>Ayr</td>\n",
       "      <td>55.4627</td>\n",
       "      <td>-4.6339</td>\n",
       "      <td>67.50</td>\n",
       "      <td>63</td>\n",
       "      <td>40</td>\n",
       "      <td>8.05</td>\n",
       "      <td>GB</td>\n",
       "      <td>1659015672</td>\n",
       "    </tr>\n",
       "    <tr>\n",
       "      <th>556</th>\n",
       "      <td>Tilichiki</td>\n",
       "      <td>60.4667</td>\n",
       "      <td>166.1000</td>\n",
       "      <td>44.98</td>\n",
       "      <td>79</td>\n",
       "      <td>100</td>\n",
       "      <td>5.84</td>\n",
       "      <td>RU</td>\n",
       "      <td>1659015673</td>\n",
       "    </tr>\n",
       "    <tr>\n",
       "      <th>557</th>\n",
       "      <td>Suzhou</td>\n",
       "      <td>31.3114</td>\n",
       "      <td>120.6181</td>\n",
       "      <td>81.55</td>\n",
       "      <td>76</td>\n",
       "      <td>0</td>\n",
       "      <td>8.32</td>\n",
       "      <td>CN</td>\n",
       "      <td>1659015552</td>\n",
       "    </tr>\n",
       "  </tbody>\n",
       "</table>\n",
       "<p>558 rows × 9 columns</p>\n",
       "</div>"
      ],
      "text/plain": [
       "           City      Lat       Lng  Max Temp  Humidity  Cloudiness  \\\n",
       "0        Faanui -16.4833 -151.7500     78.85        74          16   \n",
       "1      Øksfjord  70.2396   22.3479     55.47        83          96   \n",
       "2        Padang  -0.9492  100.3543     79.02        87          85   \n",
       "3    Nikolskoye  59.7035   30.7861     71.49        56          94   \n",
       "4         Vaini -21.2000 -175.2000     73.56        94          75   \n",
       "..          ...      ...       ...       ...       ...         ...   \n",
       "553    Madingou  -4.1536   13.5500     89.10        36          67   \n",
       "554      Negara  -8.3151  114.6025     74.03        83          97   \n",
       "555         Ayr  55.4627   -4.6339     67.50        63          40   \n",
       "556   Tilichiki  60.4667  166.1000     44.98        79         100   \n",
       "557      Suzhou  31.3114  120.6181     81.55        76           0   \n",
       "\n",
       "     Wind Speed Country        Date  \n",
       "0         27.02      PF  1659015519  \n",
       "1          8.25      NO  1659015519  \n",
       "2          4.05      ID  1659015519  \n",
       "3          6.82      RU  1659015519  \n",
       "4          5.75      TO  1659015520  \n",
       "..          ...     ...         ...  \n",
       "553        6.17      CG  1659015672  \n",
       "554        5.77      ID  1659015672  \n",
       "555        8.05      GB  1659015672  \n",
       "556        5.84      RU  1659015673  \n",
       "557        8.32      CN  1659015552  \n",
       "\n",
       "[558 rows x 9 columns]"
      ]
     },
     "execution_count": 5,
     "metadata": {},
     "output_type": "execute_result"
    }
   ],
   "source": [
    "# Creating a DataFrame\n",
    "city_data_df = pd.DataFrame(city_weather)\n",
    "# Exporting to CSV\n",
    "city_data_df.to_csv(output_data_file, index_label=\"City_ID\")\n",
    "\n",
    "city_data_df"
   ]
  },
  {
   "cell_type": "code",
   "execution_count": 6,
   "metadata": {},
   "outputs": [
    {
     "data": {
      "text/html": [
       "<div>\n",
       "<style scoped>\n",
       "    .dataframe tbody tr th:only-of-type {\n",
       "        vertical-align: middle;\n",
       "    }\n",
       "\n",
       "    .dataframe tbody tr th {\n",
       "        vertical-align: top;\n",
       "    }\n",
       "\n",
       "    .dataframe thead th {\n",
       "        text-align: right;\n",
       "    }\n",
       "</style>\n",
       "<table border=\"1\" class=\"dataframe\">\n",
       "  <thead>\n",
       "    <tr style=\"text-align: right;\">\n",
       "      <th></th>\n",
       "      <th>Lat</th>\n",
       "      <th>Lng</th>\n",
       "      <th>Max Temp</th>\n",
       "      <th>Humidity</th>\n",
       "      <th>Cloudiness</th>\n",
       "      <th>Wind Speed</th>\n",
       "      <th>Date</th>\n",
       "    </tr>\n",
       "  </thead>\n",
       "  <tbody>\n",
       "    <tr>\n",
       "      <th>0</th>\n",
       "      <td>-16.4833</td>\n",
       "      <td>-151.7500</td>\n",
       "      <td>78.85</td>\n",
       "      <td>74</td>\n",
       "      <td>16</td>\n",
       "      <td>27.02</td>\n",
       "      <td>1659015519</td>\n",
       "    </tr>\n",
       "    <tr>\n",
       "      <th>1</th>\n",
       "      <td>70.2396</td>\n",
       "      <td>22.3479</td>\n",
       "      <td>55.47</td>\n",
       "      <td>83</td>\n",
       "      <td>96</td>\n",
       "      <td>8.25</td>\n",
       "      <td>1659015519</td>\n",
       "    </tr>\n",
       "    <tr>\n",
       "      <th>2</th>\n",
       "      <td>-0.9492</td>\n",
       "      <td>100.3543</td>\n",
       "      <td>79.02</td>\n",
       "      <td>87</td>\n",
       "      <td>85</td>\n",
       "      <td>4.05</td>\n",
       "      <td>1659015519</td>\n",
       "    </tr>\n",
       "    <tr>\n",
       "      <th>3</th>\n",
       "      <td>59.7035</td>\n",
       "      <td>30.7861</td>\n",
       "      <td>71.49</td>\n",
       "      <td>56</td>\n",
       "      <td>94</td>\n",
       "      <td>6.82</td>\n",
       "      <td>1659015519</td>\n",
       "    </tr>\n",
       "    <tr>\n",
       "      <th>4</th>\n",
       "      <td>-21.2000</td>\n",
       "      <td>-175.2000</td>\n",
       "      <td>73.56</td>\n",
       "      <td>94</td>\n",
       "      <td>75</td>\n",
       "      <td>5.75</td>\n",
       "      <td>1659015520</td>\n",
       "    </tr>\n",
       "  </tbody>\n",
       "</table>\n",
       "</div>"
      ],
      "text/plain": [
       "       Lat       Lng  Max Temp  Humidity  Cloudiness  Wind Speed        Date\n",
       "0 -16.4833 -151.7500     78.85        74          16       27.02  1659015519\n",
       "1  70.2396   22.3479     55.47        83          96        8.25  1659015519\n",
       "2  -0.9492  100.3543     79.02        87          85        4.05  1659015519\n",
       "3  59.7035   30.7861     71.49        56          94        6.82  1659015519\n",
       "4 -21.2000 -175.2000     73.56        94          75        5.75  1659015520"
      ]
     },
     "execution_count": 6,
     "metadata": {},
     "output_type": "execute_result"
    }
   ],
   "source": [
    "# Creating a Summary Stats Table\n",
    "lat = city_data_df[\"Lat\"]\n",
    "lng = city_data_df[\"Lng\"]\n",
    "max_temp = city_data_df[\"Max Temp\"]\n",
    "humidity = city_data_df[\"Humidity\"]\n",
    "cloudiness = city_data_df[\"Cloudiness\"]\n",
    "wind_speed = city_data_df[\"Wind Speed\"]\n",
    "date = city_data_df[\"Date\"]\n",
    "\n",
    "data_table = pd.DataFrame({\"Lat\":lat,\n",
    "                          \"Lng\":lng,\n",
    "                          \"Max Temp\":max_temp,\n",
    "                          \"Humidity\":humidity,\n",
    "                          \"Cloudiness\":cloudiness,\n",
    "                          \"Wind Speed\":wind_speed,\n",
    "                          \"Date\":date})\n",
    "data_table.head()"
   ]
  },
  {
   "cell_type": "markdown",
   "metadata": {},
   "source": [
    "## Inspect the data and remove the cities where the humidity > 100%.\n",
    "----\n",
    "Skip this step if there are no cities that have humidity > 100%. "
   ]
  },
  {
   "cell_type": "code",
   "execution_count": 7,
   "metadata": {},
   "outputs": [
    {
     "name": "stdout",
     "output_type": "stream",
     "text": [
      "Empty DataFrame\n",
      "Columns: [Lat, Lng, Max Temp, Humidity, Cloudiness, Wind Speed, Date]\n",
      "Index: []\n"
     ]
    }
   ],
   "source": [
    "#  Get the indices of cities that have humidity over 100%.\n",
    "print(data_table.loc[data_table['Humidity'] > 100])"
   ]
  },
  {
   "cell_type": "code",
   "execution_count": 8,
   "metadata": {},
   "outputs": [
    {
     "data": {
      "text/html": [
       "<div>\n",
       "<style scoped>\n",
       "    .dataframe tbody tr th:only-of-type {\n",
       "        vertical-align: middle;\n",
       "    }\n",
       "\n",
       "    .dataframe tbody tr th {\n",
       "        vertical-align: top;\n",
       "    }\n",
       "\n",
       "    .dataframe thead th {\n",
       "        text-align: right;\n",
       "    }\n",
       "</style>\n",
       "<table border=\"1\" class=\"dataframe\">\n",
       "  <thead>\n",
       "    <tr style=\"text-align: right;\">\n",
       "      <th></th>\n",
       "      <th>City</th>\n",
       "      <th>Lat</th>\n",
       "      <th>Lng</th>\n",
       "      <th>Max Temp</th>\n",
       "      <th>Humidity</th>\n",
       "      <th>Cloudiness</th>\n",
       "      <th>Wind Speed</th>\n",
       "      <th>Country</th>\n",
       "      <th>Date</th>\n",
       "    </tr>\n",
       "  </thead>\n",
       "  <tbody>\n",
       "    <tr>\n",
       "      <th>0</th>\n",
       "      <td>Faanui</td>\n",
       "      <td>-16.4833</td>\n",
       "      <td>-151.7500</td>\n",
       "      <td>78.85</td>\n",
       "      <td>74</td>\n",
       "      <td>16</td>\n",
       "      <td>27.02</td>\n",
       "      <td>PF</td>\n",
       "      <td>1659015519</td>\n",
       "    </tr>\n",
       "    <tr>\n",
       "      <th>1</th>\n",
       "      <td>Øksfjord</td>\n",
       "      <td>70.2396</td>\n",
       "      <td>22.3479</td>\n",
       "      <td>55.47</td>\n",
       "      <td>83</td>\n",
       "      <td>96</td>\n",
       "      <td>8.25</td>\n",
       "      <td>NO</td>\n",
       "      <td>1659015519</td>\n",
       "    </tr>\n",
       "    <tr>\n",
       "      <th>2</th>\n",
       "      <td>Padang</td>\n",
       "      <td>-0.9492</td>\n",
       "      <td>100.3543</td>\n",
       "      <td>79.02</td>\n",
       "      <td>87</td>\n",
       "      <td>85</td>\n",
       "      <td>4.05</td>\n",
       "      <td>ID</td>\n",
       "      <td>1659015519</td>\n",
       "    </tr>\n",
       "    <tr>\n",
       "      <th>3</th>\n",
       "      <td>Nikolskoye</td>\n",
       "      <td>59.7035</td>\n",
       "      <td>30.7861</td>\n",
       "      <td>71.49</td>\n",
       "      <td>56</td>\n",
       "      <td>94</td>\n",
       "      <td>6.82</td>\n",
       "      <td>RU</td>\n",
       "      <td>1659015519</td>\n",
       "    </tr>\n",
       "    <tr>\n",
       "      <th>4</th>\n",
       "      <td>Vaini</td>\n",
       "      <td>-21.2000</td>\n",
       "      <td>-175.2000</td>\n",
       "      <td>73.56</td>\n",
       "      <td>94</td>\n",
       "      <td>75</td>\n",
       "      <td>5.75</td>\n",
       "      <td>TO</td>\n",
       "      <td>1659015520</td>\n",
       "    </tr>\n",
       "  </tbody>\n",
       "</table>\n",
       "</div>"
      ],
      "text/plain": [
       "         City      Lat       Lng  Max Temp  Humidity  Cloudiness  Wind Speed  \\\n",
       "0      Faanui -16.4833 -151.7500     78.85        74          16       27.02   \n",
       "1    Øksfjord  70.2396   22.3479     55.47        83          96        8.25   \n",
       "2      Padang  -0.9492  100.3543     79.02        87          85        4.05   \n",
       "3  Nikolskoye  59.7035   30.7861     71.49        56          94        6.82   \n",
       "4       Vaini -21.2000 -175.2000     73.56        94          75        5.75   \n",
       "\n",
       "  Country        Date  \n",
       "0      PF  1659015519  \n",
       "1      NO  1659015519  \n",
       "2      ID  1659015519  \n",
       "3      RU  1659015519  \n",
       "4      TO  1659015520  "
      ]
     },
     "execution_count": 8,
     "metadata": {},
     "output_type": "execute_result"
    }
   ],
   "source": [
    "# Make a new DataFrame equal to the city data to drop all humidity outliers by index.\n",
    "# Passing \"inplace=False\" will make a copy of the city_data DataFrame, which we call \"clean_city_data\".\n",
    "clean_city_data = city_data_df.dropna(inplace=False)\n",
    "clean_city_data.head()"
   ]
  },
  {
   "cell_type": "markdown",
   "metadata": {},
   "source": [
    "## Plotting the Data\n",
    "* Use proper labeling of the plots using plot titles (including date of analysis) and axes labels.\n",
    "* Save the plotted figures as .pngs."
   ]
  },
  {
   "cell_type": "markdown",
   "metadata": {},
   "source": [
    "## Latitude vs. Temperature Plot"
   ]
  },
  {
   "cell_type": "code",
   "execution_count": 9,
   "metadata": {
    "scrolled": true
   },
   "outputs": [
    {
     "data": {
      "image/png": "[encoded data removed]",
      "text/plain": [
       "<Figure size 432x288 with 1 Axes>"
      ]
     },
     "metadata": {
      "needs_background": "light"
     },
     "output_type": "display_data"
    }
   ],
   "source": [
    "plt.scatter(city_weather[\"Lat\"],city_weather[\"Max Temp\"], facecolor=\"green\", edgecolor=\"black\")\n",
    "plt.title(\"City Latitude vs Max Temperature (F)\")\n",
    "plt.xlabel(\"Latitude\")\n",
    "plt.ylabel(\"Max Temperature (F)\")\n",
    "plt.savefig(\"Images/City Latitude vs Max Temperature.png\")"
   ]
  },
  {
   "cell_type": "markdown",
   "metadata": {},
   "source": [
    "## Latitude vs. Humidity Plot"
   ]
  },
  {
   "cell_type": "code",
   "execution_count": 10,
   "metadata": {},
   "outputs": [
    {
     "data": {
      "image/png": "[encoded data removed]",
      "text/plain": [
       "<Figure size 432x288 with 1 Axes>"
      ]
     },
     "metadata": {
      "needs_background": "light"
     },
     "output_type": "display_data"
    }
   ],
   "source": [
    "plt.scatter(city_weather[\"Lat\"],city_weather[\"Humidity\"], facecolor=\"green\", edgecolor=\"black\")\n",
    "plt.title(\"City Latitude vs Humidity\")\n",
    "plt.xlabel(\"Latitude\")\n",
    "plt.ylabel(\"Humidity\")\n",
    "plt.savefig(\"Images/City Latitude vs Humidity.png\")"
   ]
  },
  {
   "cell_type": "markdown",
   "metadata": {},
   "source": [
    "## Latitude vs. Cloudiness Plot"
   ]
  },
  {
   "cell_type": "code",
   "execution_count": 11,
   "metadata": {},
   "outputs": [
    {
     "data": {
      "image/png": "[encoded data removed]",
      "text/plain": [
       "<Figure size 432x288 with 1 Axes>"
      ]
     },
     "metadata": {
      "needs_background": "light"
     },
     "output_type": "display_data"
    }
   ],
   "source": [
    "plt.scatter(city_weather[\"Lat\"],city_weather[\"Cloudiness\"], facecolor=\"green\", edgecolor=\"black\")\n",
    "plt.title(\"City Latitude vs Cloudiness\")\n",
    "plt.xlabel(\"Latitude\")\n",
    "plt.ylabel(\"Cloudiness\")\n",
    "plt.savefig(\"Images/City Latitude vs Cloudiness.png\")"
   ]
  },
  {
   "cell_type": "markdown",
   "metadata": {},
   "source": [
    "## Latitude vs. Wind Speed Plot"
   ]
  },
  {
   "cell_type": "code",
   "execution_count": 12,
   "metadata": {},
   "outputs": [
    {
     "data": {
      "image/png": "[encoded data removed]",
      "text/plain": [
       "<Figure size 432x288 with 1 Axes>"
      ]
     },
     "metadata": {
      "needs_background": "light"
     },
     "output_type": "display_data"
    }
   ],
   "source": [
    "plt.scatter(city_weather[\"Lat\"],city_weather[\"Wind Speed\"], facecolor=\"green\", edgecolor=\"black\")\n",
    "plt.title(\"City Latitude vs Wind Speed\")\n",
    "plt.xlabel(\"Latitude\")\n",
    "plt.ylabel(\"Wind Speed\")\n",
    "plt.savefig(\"Images/City Latitude vs Wind Speed.png\")"
   ]
  },
  {
   "cell_type": "markdown",
   "metadata": {},
   "source": [
    "## Linear Regression"
   ]
  },
  {
   "cell_type": "code",
   "execution_count": 13,
   "metadata": {},
   "outputs": [],
   "source": [
    "# First Separate Northern Hemisphere from Southern Hemisphere\n",
    "\n",
    "northern_hemisphere = clean_city_data.loc[clean_city_data[\"Lat\"] >= 0]\n",
    "southern_hemisphere = clean_city_data.loc[clean_city_data[\"Lat\"] < 0]"
   ]
  },
  {
   "cell_type": "code",
   "execution_count": 19,
   "metadata": {},
   "outputs": [],
   "source": [
    "# Creating a function for Linear Regression\n",
    "def linregress(x,y):\n",
    "    (slope, intercept, rvalue, pvalue, stderr) = st.linregress(x, y)\n",
    "    regress_values = x * slope + intercept\n",
    "    line_eq = \"y = \" + str(round(slope,2)) + \"x + \" + str(round(intercept,2))\n",
    "    plt.scatter(x, y)\n",
    "    plt.plot(x,regress_values,\"r-\")\n",
    "    return line_eq"
   ]
  },
  {
   "cell_type": "markdown",
   "metadata": {},
   "source": [
    "####  Northern Hemisphere - Max Temp vs. Latitude Linear Regression"
   ]
  },
  {
   "cell_type": "code",
   "execution_count": 43,
   "metadata": {},
   "outputs": [
    {
     "name": "stdout",
     "output_type": "stream",
     "text": [
      "The correlation between max temperature and latitude is -0.66\n"
     ]
    },
    {
     "data": {
      "image/png": "[encoded data removed]",
      "text/plain": [
       "<Figure size 432x288 with 1 Axes>"
      ]
     },
     "metadata": {
      "needs_background": "light"
     },
     "output_type": "display_data"
    }
   ],
   "source": [
    "# Linear Regression Model fx 1\n",
    "\n",
    "equation = linregress(northern_hemisphere[\"Max Temp\"],northern_hemisphere[\"Lat\"])\n",
    "\n",
    "# Fx 2\n",
    "plt.annotate(equation,(5.8,0.8),fontsize=15)\n",
    "correlation = st.pearsonr(northern_hemisphere[\"Max Temp\"],northern_hemisphere[\"Lat\"])\n",
    "print(f\"The correlation between max temperature and latitude is {round(correlation[0],2)}\")\n",
    "\n",
    "\n",
    "# Formatting\n",
    "plt.xlabel(\"Max Temperature (F)\")\n",
    "plt.ylabel(\"Latitude\")\n",
    "plt.title(\"Northern Hemisphere: Max Temp and Latitude Linear Regression\")\n",
    "plt.savefig(\"Images/Northern Hemisphere - Max Temp vs Latitude Linear Regression\")\n"
   ]
  },
  {
   "cell_type": "markdown",
   "metadata": {},
   "source": [
    "When comparing max temperaure and latitude in the northern hemisphere, there is a negative correlation of -0.66."
   ]
  },
  {
   "cell_type": "markdown",
   "metadata": {},
   "source": [
    "####  Southern Hemisphere - Max Temp vs. Latitude Linear Regression"
   ]
  },
  {
   "cell_type": "code",
   "execution_count": 44,
   "metadata": {},
   "outputs": [
    {
     "name": "stdout",
     "output_type": "stream",
     "text": [
      "The correlation between max temperature and latitude is 0.8\n"
     ]
    },
    {
     "data": {
      "image/png": "[encoded data removed]",
      "text/plain": [
       "<Figure size 432x288 with 1 Axes>"
      ]
     },
     "metadata": {
      "needs_background": "light"
     },
     "output_type": "display_data"
    }
   ],
   "source": [
    "# Linear Regression Model fx 1\n",
    "\n",
    "equation = linregress(southern_hemisphere[\"Max Temp\"],southern_hemisphere[\"Lat\"])\n",
    "\n",
    "# Fx 2\n",
    "plt.annotate(equation,(5.8,0.8),fontsize=15)\n",
    "correlation = st.pearsonr(southern_hemisphere[\"Max Temp\"],southern_hemisphere[\"Lat\"])\n",
    "print(f\"The correlation between max temperature and latitude is {round(correlation[0],2)}\")\n",
    "\n",
    "# Formatting\n",
    "plt.xlabel(\"Max Temperature (F)\")\n",
    "plt.ylabel(\"Latitude\")\n",
    "plt.title(\"Southern Hemisphere: Max Temp and Latitude Linear Regression\")\n",
    "plt.savefig(\"Images/Southern Hemisphere - Max Temp vs Latitude Linear Regression\")\n",
    "\n"
   ]
  },
  {
   "cell_type": "markdown",
   "metadata": {},
   "source": [
    "When comparing max temperaure and latitude in the northern hemisphere, there is a slight positive correlation of 0.8."
   ]
  },
  {
   "cell_type": "markdown",
   "metadata": {},
   "source": [
    "####  Northern Hemisphere - Humidity (%) vs. Latitude Linear Regression"
   ]
  },
  {
   "cell_type": "code",
   "execution_count": 51,
   "metadata": {},
   "outputs": [
    {
     "name": "stdout",
     "output_type": "stream",
     "text": [
      "The correlation between humidity and latitude is -0.05\n"
     ]
    },
    {
     "data": {
      "image/png": "[encoded data removed]",
      "text/plain": [
       "<Figure size 432x288 with 1 Axes>"
      ]
     },
     "metadata": {
      "needs_background": "light"
     },
     "output_type": "display_data"
    }
   ],
   "source": [
    "# Linear Regression Model fx 1\n",
    "\n",
    "equation = linregress(northern_hemisphere[\"Humidity\"],northern_hemisphere[\"Lat\"])\n",
    "\n",
    "# Fx 2\n",
    "plt.annotate(equation,(5.8,0.8),fontsize=15)\n",
    "correlation = st.pearsonr(southern_hemisphere[\"Humidity\"],southern_hemisphere[\"Lat\"])\n",
    "print(f\"The correlation between humidity and latitude is {round(correlation[0],2)}\")\n",
    "\n",
    "\n",
    "# Formatting\n",
    "plt.xlabel(\"Humidity\")\n",
    "plt.ylabel(\"Latitude\")\n",
    "plt.title(\"Northern Hemisphere: Humidity and Latitude Linear Regression\")\n",
    "plt.savefig(\"Images/Northern Hemisphere - Humidity vs Latitude Linear Regression\")"
   ]
  },
  {
   "cell_type": "markdown",
   "metadata": {},
   "source": []
  },
  {
   "cell_type": "markdown",
   "metadata": {},
   "source": [
    "####  Southern Hemisphere - Humidity (%) vs. Latitude Linear Regression"
   ]
  },
  {
   "cell_type": "code",
   "execution_count": 49,
   "metadata": {},
   "outputs": [
    {
     "name": "stdout",
     "output_type": "stream",
     "text": [
      "The correlation between humidity and latitude is -0.05\n"
     ]
    },
    {
     "data": {
      "image/png": "[encoded data removed]",
      "text/plain": [
       "<Figure size 432x288 with 1 Axes>"
      ]
     },
     "metadata": {
      "needs_background": "light"
     },
     "output_type": "display_data"
    }
   ],
   "source": [
    "# Linear Regression Model fx 1\n",
    "\n",
    "equation = linregress(southern_hemisphere[\"Humidity\"],southern_hemisphere[\"Lat\"])\n",
    "\n",
    "# Fx 2\n",
    "plt.annotate(equation,(5.8,0.8),fontsize=15)\n",
    "correlation = st.pearsonr(southern_hemisphere[\"Humidity\"],southern_hemisphere[\"Lat\"])\n",
    "print(f\"The correlation between humidity and latitude is {round(correlation[0],2)}\")\n",
    "\n",
    "# Formatting\n",
    "plt.xlabel(\"Max Temperature (F)\")\n",
    "plt.ylabel(\"Latitude\")\n",
    "plt.title(\"Southern Hemisphere: Humidity and Latitude Linear Regression\")\n",
    "plt.savefig(\"Images/Southern Hemisphere - Humidity vs Latitude Linear Regression\")"
   ]
  },
  {
   "cell_type": "markdown",
   "metadata": {},
   "source": []
  },
  {
   "cell_type": "markdown",
   "metadata": {},
   "source": [
    "####  Northern Hemisphere - Cloudiness (%) vs. Latitude Linear Regression"
   ]
  },
  {
   "cell_type": "code",
   "execution_count": 48,
   "metadata": {},
   "outputs": [
    {
     "name": "stdout",
     "output_type": "stream",
     "text": [
      "The correlation between cloudiness and latitude is 0.01\n"
     ]
    },
    {
     "data": {
      "image/png": "[encoded data removed]",
      "text/plain": [
       "<Figure size 432x288 with 1 Axes>"
      ]
     },
     "metadata": {
      "needs_background": "light"
     },
     "output_type": "display_data"
    }
   ],
   "source": [
    "# Linear Regression Model fx 1\n",
    "\n",
    "equation = linregress(northern_hemisphere[\"Cloudiness\"],northern_hemisphere[\"Lat\"])\n",
    "\n",
    "# Fx 2\n",
    "plt.annotate(equation,(5.8,0.8),fontsize=15)\n",
    "correlation = st.pearsonr(northern_hemisphere[\"Cloudiness\"],northern_hemisphere[\"Lat\"])\n",
    "print(f\"The correlation between cloudiness and latitude is {round(correlation[0],2)}\")\n",
    "\n",
    "# Formatting\n",
    "plt.xlabel(\"Cloudiness\")\n",
    "plt.ylabel(\"Latitude\")\n",
    "plt.title(\"Northern Hemisphere: Cloudiness and Latitude Linear Regression\")\n",
    "plt.savefig(\"Images/Northern Hemisphere - Cloudiness vs Latitude Linear Regression\")\n"
   ]
  },
  {
   "cell_type": "markdown",
   "metadata": {},
   "source": []
  },
  {
   "cell_type": "markdown",
   "metadata": {},
   "source": [
    "####  Southern Hemisphere - Cloudiness (%) vs. Latitude Linear Regression"
   ]
  },
  {
   "cell_type": "code",
   "execution_count": 47,
   "metadata": {},
   "outputs": [
    {
     "name": "stdout",
     "output_type": "stream",
     "text": [
      "The correlation between cloudiness and latitude is 0.08\n"
     ]
    },
    {
     "data": {
      "image/png": "[encoded data removed]",
      "text/plain": [
       "<Figure size 432x288 with 1 Axes>"
      ]
     },
     "metadata": {
      "needs_background": "light"
     },
     "output_type": "display_data"
    }
   ],
   "source": [
    "# Linear Regression Model fx 1\n",
    "\n",
    "equation = linregress(southern_hemisphere[\"Cloudiness\"],southern_hemisphere[\"Lat\"])\n",
    "\n",
    "# Fx 2\n",
    "plt.annotate(equation,(5.8,0.8),fontsize=15)\n",
    "correlation = st.pearsonr(southern_hemisphere[\"Cloudiness\"],southern_hemisphere[\"Lat\"])\n",
    "print(f\"The correlation between cloudiness and latitude is {round(correlation[0],2)}\")\n",
    "\n",
    "# Formatting\n",
    "plt.xlabel(\"Cloudiness\")\n",
    "plt.ylabel(\"Latitude\")\n",
    "plt.title(\"Southern Hemisphere: Cloudiness and Latitude Linear Regression\")\n",
    "plt.savefig(\"Images/Southern Hemisphere - Cloudiness vs Latitude Linear Regression\")\n"
   ]
  },
  {
   "cell_type": "markdown",
   "metadata": {},
   "source": []
  },
  {
   "cell_type": "markdown",
   "metadata": {},
   "source": [
    "####  Northern Hemisphere - Wind Speed (mph) vs. Latitude Linear Regression"
   ]
  },
  {
   "cell_type": "code",
   "execution_count": 46,
   "metadata": {},
   "outputs": [
    {
     "name": "stdout",
     "output_type": "stream",
     "text": [
      "The correlation between wind speed and latitude is -0.08\n"
     ]
    },
    {
     "data": {
      "image/png": "[encoded data removed]",
      "text/plain": [
       "<Figure size 432x288 with 1 Axes>"
      ]
     },
     "metadata": {
      "needs_background": "light"
     },
     "output_type": "display_data"
    }
   ],
   "source": [
    "# Linear Regression Model fx 1\n",
    "\n",
    "equation = linregress(northern_hemisphere[\"Wind Speed\"],northern_hemisphere[\"Lat\"])\n",
    "\n",
    "# Fx 2\n",
    "plt.annotate(equation,(5.8,0.8),fontsize=15)\n",
    "correlation = st.pearsonr(northern_hemisphere[\"Wind Speed\"],northern_hemisphere[\"Lat\"])\n",
    "print(f\"The correlation between wind speed and latitude is {round(correlation[0],2)}\")\n",
    "\n",
    "# Formatting\n",
    "plt.xlabel(\"Wind Speed (mph)\")\n",
    "plt.ylabel(\"Latitude\")\n",
    "plt.title(\"Northern Hemisphere: Wind Speed (mph) and Latitude Linear Regression\")\n",
    "plt.savefig(\"Images/Northern Hemisphere - Wind Speed (mph) vs Latitude Linear Regression\")\n",
    "\n"
   ]
  },
  {
   "cell_type": "markdown",
   "metadata": {},
   "source": []
  },
  {
   "cell_type": "markdown",
   "metadata": {},
   "source": [
    "####  Southern Hemisphere - Wind Speed (mph) vs. Latitude Linear Regression"
   ]
  },
  {
   "cell_type": "code",
   "execution_count": 45,
   "metadata": {},
   "outputs": [
    {
     "name": "stdout",
     "output_type": "stream",
     "text": [
      "The correlation between wind speed and latitude is -0.13\n"
     ]
    },
    {
     "data": {
      "image/png": "[encoded data removed]",
      "text/plain": [
       "<Figure size 432x288 with 1 Axes>"
      ]
     },
     "metadata": {
      "needs_background": "light"
     },
     "output_type": "display_data"
    }
   ],
   "source": [
    "# Linear Regression Model fx 1\n",
    "\n",
    "equation = linregress(southern_hemisphere[\"Wind Speed\"],southern_hemisphere[\"Lat\"])\n",
    "\n",
    "\n",
    "# Fx 2\n",
    "plt.annotate(equation,(5.8,0.8),fontsize=15)\n",
    "correlation = st.pearsonr(southern_hemisphere[\"Wind Speed\"],southern_hemisphere[\"Lat\"])\n",
    "print(f\"The correlation between wind speed and latitude is {round(correlation[0],2)}\")\n",
    "\n",
    "# Formatting\n",
    "plt.xlabel(\"Wind Speed (mph)\")\n",
    "plt.ylabel(\"Latitude\")\n",
    "plt.title(\"Southern Hemisphere: Wind Speed (mph) and Latitude Linear Regression\")\n",
    "plt.savefig(\"Images/Southern Hemisphere - Wind Speed (mph) vs Latitude Linear Regression\")"
   ]
  },
  {
   "cell_type": "markdown",
   "metadata": {},
   "source": []
  }
 ],
 "metadata": {
  "anaconda-cloud": {},
  "kernel_info": {
   "name": "python3"
  },
  "kernelspec": {
   "display_name": "Python 3 (ipykernel)",
   "language": "python",
   "name": "python3"
  },
  "language_info": {
   "codemirror_mode": {
    "name": "ipython",
    "version": 3
   },
   "file_extension": ".py",
   "mimetype": "text/x-python",
   "name": "python",
   "nbconvert_exporter": "python",
   "pygments_lexer": "ipython3",
   "version": "3.9.12"
  },
  "latex_envs": {
   "LaTeX_envs_menu_present": true,
   "autoclose": false,
   "autocomplete": true,
   "bibliofile": "biblio.bib",
   "cite_by": "apalike",
   "current_citInitial": 1,
   "eqLabelWithNumbers": true,
   "eqNumInitial": 1,
   "hotkeys": {
    "equation": "Ctrl-E",
    "itemize": "Ctrl-I"
   },
   "labels_anchors": false,
   "latex_user_defs": false,
   "report_style_numbering": false,
   "user_envs_cfg": false
  },
  "nteract": {
   "version": "0.12.3"
  }
 },
 "nbformat": 4,
 "nbformat_minor": 4
}
